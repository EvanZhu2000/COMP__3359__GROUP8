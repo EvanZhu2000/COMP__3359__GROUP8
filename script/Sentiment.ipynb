{
 "cells": [
  {
   "cell_type": "markdown",
   "metadata": {},
   "source": [
    "## Data Sampling"
   ]
  },
  {
   "cell_type": "code",
   "execution_count": 1,
   "metadata": {
    "ExecuteTime": {
     "end_time": "2021-04-15T02:37:00.565922Z",
     "start_time": "2021-04-15T02:36:58.765863Z"
    }
   },
   "outputs": [],
   "source": [
    "import numpy as np\n",
    "import pandas as pd\n",
    "import os\n",
    "import matplotlib.pyplot as plt"
   ]
  },
  {
   "cell_type": "code",
   "execution_count": 55,
   "metadata": {
    "ExecuteTime": {
     "end_time": "2021-04-15T03:06:11.793081Z",
     "start_time": "2021-04-15T03:06:08.743511Z"
    }
   },
   "outputs": [],
   "source": [
    "data_path = os.getcwd().replace('script', 'data')\n",
    "df = pd.read_csv(data_path + \"/test.txt.zip\", sep=\"\\t\", header = None)"
   ]
  },
  {
   "cell_type": "code",
   "execution_count": 56,
   "metadata": {
    "ExecuteTime": {
     "end_time": "2021-04-15T03:06:12.326510Z",
     "start_time": "2021-04-15T03:06:12.299769Z"
    }
   },
   "outputs": [
    {
     "data": {
      "text/html": [
       "<div>\n",
       "<style scoped>\n",
       "    .dataframe tbody tr th:only-of-type {\n",
       "        vertical-align: middle;\n",
       "    }\n",
       "\n",
       "    .dataframe tbody tr th {\n",
       "        vertical-align: top;\n",
       "    }\n",
       "\n",
       "    .dataframe thead th {\n",
       "        text-align: right;\n",
       "    }\n",
       "</style>\n",
       "<table border=\"1\" class=\"dataframe\">\n",
       "  <thead>\n",
       "    <tr style=\"text-align: right;\">\n",
       "      <th></th>\n",
       "      <th>0</th>\n",
       "    </tr>\n",
       "  </thead>\n",
       "  <tbody>\n",
       "    <tr>\n",
       "      <th>0</th>\n",
       "      <td>__label__2 Great CD: My lovely Pat has one of ...</td>\n",
       "    </tr>\n",
       "    <tr>\n",
       "      <th>1</th>\n",
       "      <td>__label__2 One of the best game music soundtra...</td>\n",
       "    </tr>\n",
       "    <tr>\n",
       "      <th>2</th>\n",
       "      <td>__label__1 Batteries died within a year ...: I...</td>\n",
       "    </tr>\n",
       "    <tr>\n",
       "      <th>3</th>\n",
       "      <td>__label__2 works fine, but Maha Energy is bett...</td>\n",
       "    </tr>\n",
       "    <tr>\n",
       "      <th>4</th>\n",
       "      <td>__label__2 Great for the non-audiophile: Revie...</td>\n",
       "    </tr>\n",
       "    <tr>\n",
       "      <th>...</th>\n",
       "      <td>...</td>\n",
       "    </tr>\n",
       "    <tr>\n",
       "      <th>399995</th>\n",
       "      <td>__label__1 Unbelievable- In a Bad Way: We boug...</td>\n",
       "    </tr>\n",
       "    <tr>\n",
       "      <th>399996</th>\n",
       "      <td>__label__1 Almost Great, Until it Broke...: My...</td>\n",
       "    </tr>\n",
       "    <tr>\n",
       "      <th>399997</th>\n",
       "      <td>__label__1 Disappointed !!!: I bought this toy...</td>\n",
       "    </tr>\n",
       "    <tr>\n",
       "      <th>399998</th>\n",
       "      <td>__label__2 Classic Jessica Mitford: This is a ...</td>\n",
       "    </tr>\n",
       "    <tr>\n",
       "      <th>399999</th>\n",
       "      <td>__label__1 Comedy Scene, and Not Heard: This D...</td>\n",
       "    </tr>\n",
       "  </tbody>\n",
       "</table>\n",
       "<p>400000 rows × 1 columns</p>\n",
       "</div>"
      ],
      "text/plain": [
       "                                                        0\n",
       "0       __label__2 Great CD: My lovely Pat has one of ...\n",
       "1       __label__2 One of the best game music soundtra...\n",
       "2       __label__1 Batteries died within a year ...: I...\n",
       "3       __label__2 works fine, but Maha Energy is bett...\n",
       "4       __label__2 Great for the non-audiophile: Revie...\n",
       "...                                                   ...\n",
       "399995  __label__1 Unbelievable- In a Bad Way: We boug...\n",
       "399996  __label__1 Almost Great, Until it Broke...: My...\n",
       "399997  __label__1 Disappointed !!!: I bought this toy...\n",
       "399998  __label__2 Classic Jessica Mitford: This is a ...\n",
       "399999  __label__1 Comedy Scene, and Not Heard: This D...\n",
       "\n",
       "[400000 rows x 1 columns]"
      ]
     },
     "execution_count": 56,
     "metadata": {},
     "output_type": "execute_result"
    }
   ],
   "source": [
    "df"
   ]
  },
  {
   "cell_type": "code",
   "execution_count": 57,
   "metadata": {
    "ExecuteTime": {
     "end_time": "2021-04-15T03:06:13.992216Z",
     "start_time": "2021-04-15T03:06:13.356373Z"
    }
   },
   "outputs": [
    {
     "data": {
      "text/html": [
       "<div>\n",
       "<style scoped>\n",
       "    .dataframe tbody tr th:only-of-type {\n",
       "        vertical-align: middle;\n",
       "    }\n",
       "\n",
       "    .dataframe tbody tr th {\n",
       "        vertical-align: top;\n",
       "    }\n",
       "\n",
       "    .dataframe thead th {\n",
       "        text-align: right;\n",
       "    }\n",
       "</style>\n",
       "<table border=\"1\" class=\"dataframe\">\n",
       "  <thead>\n",
       "    <tr style=\"text-align: right;\">\n",
       "      <th></th>\n",
       "      <th>label</th>\n",
       "      <th>text</th>\n",
       "    </tr>\n",
       "  </thead>\n",
       "  <tbody>\n",
       "    <tr>\n",
       "      <th>0</th>\n",
       "      <td>__label__2</td>\n",
       "      <td>reat CD: My lovely Pat has one of the GREAT vo...</td>\n",
       "    </tr>\n",
       "    <tr>\n",
       "      <th>1</th>\n",
       "      <td>__label__2</td>\n",
       "      <td>ne of the best game music soundtracks - for a ...</td>\n",
       "    </tr>\n",
       "    <tr>\n",
       "      <th>2</th>\n",
       "      <td>__label__1</td>\n",
       "      <td>atteries died within a year ...: I bought this...</td>\n",
       "    </tr>\n",
       "    <tr>\n",
       "      <th>3</th>\n",
       "      <td>__label__2</td>\n",
       "      <td>orks fine, but Maha Energy is better: Check ou...</td>\n",
       "    </tr>\n",
       "    <tr>\n",
       "      <th>4</th>\n",
       "      <td>__label__2</td>\n",
       "      <td>reat for the non-audiophile: Reviewed quite a ...</td>\n",
       "    </tr>\n",
       "    <tr>\n",
       "      <th>...</th>\n",
       "      <td>...</td>\n",
       "      <td>...</td>\n",
       "    </tr>\n",
       "    <tr>\n",
       "      <th>399995</th>\n",
       "      <td>__label__1</td>\n",
       "      <td>nbelievable- In a Bad Way: We bought this Thom...</td>\n",
       "    </tr>\n",
       "    <tr>\n",
       "      <th>399996</th>\n",
       "      <td>__label__1</td>\n",
       "      <td>lmost Great, Until it Broke...: My son recieve...</td>\n",
       "    </tr>\n",
       "    <tr>\n",
       "      <th>399997</th>\n",
       "      <td>__label__1</td>\n",
       "      <td>isappointed !!!: I bought this toy for my son ...</td>\n",
       "    </tr>\n",
       "    <tr>\n",
       "      <th>399998</th>\n",
       "      <td>__label__2</td>\n",
       "      <td>lassic Jessica Mitford: This is a compilation ...</td>\n",
       "    </tr>\n",
       "    <tr>\n",
       "      <th>399999</th>\n",
       "      <td>__label__1</td>\n",
       "      <td>omedy Scene, and Not Heard: This DVD will be a...</td>\n",
       "    </tr>\n",
       "  </tbody>\n",
       "</table>\n",
       "<p>400000 rows × 2 columns</p>\n",
       "</div>"
      ],
      "text/plain": [
       "             label                                               text\n",
       "0       __label__2  reat CD: My lovely Pat has one of the GREAT vo...\n",
       "1       __label__2  ne of the best game music soundtracks - for a ...\n",
       "2       __label__1  atteries died within a year ...: I bought this...\n",
       "3       __label__2  orks fine, but Maha Energy is better: Check ou...\n",
       "4       __label__2  reat for the non-audiophile: Reviewed quite a ...\n",
       "...            ...                                                ...\n",
       "399995  __label__1  nbelievable- In a Bad Way: We bought this Thom...\n",
       "399996  __label__1  lmost Great, Until it Broke...: My son recieve...\n",
       "399997  __label__1  isappointed !!!: I bought this toy for my son ...\n",
       "399998  __label__2  lassic Jessica Mitford: This is a compilation ...\n",
       "399999  __label__1  omedy Scene, and Not Heard: This DVD will be a...\n",
       "\n",
       "[400000 rows x 2 columns]"
      ]
     },
     "execution_count": 57,
     "metadata": {},
     "output_type": "execute_result"
    }
   ],
   "source": [
    "df[\"label\"] = df[0].str[:10]\n",
    "df[\"text\"] = df[0].str[12:]\n",
    "df = df.drop(columns = [0])\n",
    "df"
   ]
  },
  {
   "cell_type": "code",
   "execution_count": 58,
   "metadata": {
    "ExecuteTime": {
     "end_time": "2021-04-15T03:06:16.719306Z",
     "start_time": "2021-04-15T03:06:16.647580Z"
    }
   },
   "outputs": [
    {
     "data": {
      "text/html": [
       "<div>\n",
       "<style scoped>\n",
       "    .dataframe tbody tr th:only-of-type {\n",
       "        vertical-align: middle;\n",
       "    }\n",
       "\n",
       "    .dataframe tbody tr th {\n",
       "        vertical-align: top;\n",
       "    }\n",
       "\n",
       "    .dataframe thead th {\n",
       "        text-align: right;\n",
       "    }\n",
       "</style>\n",
       "<table border=\"1\" class=\"dataframe\">\n",
       "  <thead>\n",
       "    <tr style=\"text-align: right;\">\n",
       "      <th></th>\n",
       "      <th>label</th>\n",
       "      <th>text</th>\n",
       "    </tr>\n",
       "  </thead>\n",
       "  <tbody>\n",
       "    <tr>\n",
       "      <th>0</th>\n",
       "      <td>__label__2</td>\n",
       "      <td>est Movie I've Seen in Years!: Okay, it was ex...</td>\n",
       "    </tr>\n",
       "    <tr>\n",
       "      <th>1</th>\n",
       "      <td>__label__1</td>\n",
       "      <td>ai Uttal's voice ruins it for me.: I really en...</td>\n",
       "    </tr>\n",
       "    <tr>\n",
       "      <th>2</th>\n",
       "      <td>__label__1</td>\n",
       "      <td>isappointing: As a great fan of Elizabeth Geor...</td>\n",
       "    </tr>\n",
       "    <tr>\n",
       "      <th>3</th>\n",
       "      <td>__label__2</td>\n",
       "      <td>ighway to Heaven for Vespa-holics!!: As a conf...</td>\n",
       "    </tr>\n",
       "    <tr>\n",
       "      <th>4</th>\n",
       "      <td>__label__1</td>\n",
       "      <td>aveat emptor: They don't tell you that the gam...</td>\n",
       "    </tr>\n",
       "    <tr>\n",
       "      <th>...</th>\n",
       "      <td>...</td>\n",
       "      <td>...</td>\n",
       "    </tr>\n",
       "    <tr>\n",
       "      <th>39995</th>\n",
       "      <td>__label__2</td>\n",
       "      <td>years after purchase...: This product is simp...</td>\n",
       "    </tr>\n",
       "    <tr>\n",
       "      <th>39996</th>\n",
       "      <td>__label__2</td>\n",
       "      <td>ne word... Complete: I can recharge many kind ...</td>\n",
       "    </tr>\n",
       "    <tr>\n",
       "      <th>39997</th>\n",
       "      <td>__label__2</td>\n",
       "      <td>icnic Table: Very well made, much sturdier the...</td>\n",
       "    </tr>\n",
       "    <tr>\n",
       "      <th>39998</th>\n",
       "      <td>__label__1</td>\n",
       "      <td>65 to Rent?: Who is going to pay $65 to see th...</td>\n",
       "    </tr>\n",
       "    <tr>\n",
       "      <th>39999</th>\n",
       "      <td>__label__2</td>\n",
       "      <td>ood-Natured Comedy: Maybe this movie seems bet...</td>\n",
       "    </tr>\n",
       "  </tbody>\n",
       "</table>\n",
       "<p>40000 rows × 2 columns</p>\n",
       "</div>"
      ],
      "text/plain": [
       "            label                                               text\n",
       "0      __label__2  est Movie I've Seen in Years!: Okay, it was ex...\n",
       "1      __label__1  ai Uttal's voice ruins it for me.: I really en...\n",
       "2      __label__1  isappointing: As a great fan of Elizabeth Geor...\n",
       "3      __label__2  ighway to Heaven for Vespa-holics!!: As a conf...\n",
       "4      __label__1  aveat emptor: They don't tell you that the gam...\n",
       "...           ...                                                ...\n",
       "39995  __label__2   years after purchase...: This product is simp...\n",
       "39996  __label__2  ne word... Complete: I can recharge many kind ...\n",
       "39997  __label__2  icnic Table: Very well made, much sturdier the...\n",
       "39998  __label__1  65 to Rent?: Who is going to pay $65 to see th...\n",
       "39999  __label__2  ood-Natured Comedy: Maybe this movie seems bet...\n",
       "\n",
       "[40000 rows x 2 columns]"
      ]
     },
     "execution_count": 58,
     "metadata": {},
     "output_type": "execute_result"
    }
   ],
   "source": [
    "df_sample = df.sample(frac=0.1, replace=False, random_state=1).reset_index().drop(columns = [\"index\"])\n",
    "df_sample"
   ]
  },
  {
   "cell_type": "code",
   "execution_count": 59,
   "metadata": {
    "ExecuteTime": {
     "end_time": "2021-04-15T03:06:20.641733Z",
     "start_time": "2021-04-15T03:06:20.228093Z"
    }
   },
   "outputs": [
    {
     "data": {
      "text/plain": [
       "(array([19969.,     0.,     0.,     0.,     0.,     0.,     0.,     0.,\n",
       "            0., 20031.]),\n",
       " array([0. , 0.1, 0.2, 0.3, 0.4, 0.5, 0.6, 0.7, 0.8, 0.9, 1. ]),\n",
       " <BarContainer object of 10 artists>)"
      ]
     },
     "execution_count": 59,
     "metadata": {},
     "output_type": "execute_result"
    },
    {
     "data": {
      "image/png": "[encoded data removed]",
      "text/plain": [
       "<Figure size 432x288 with 1 Axes>"
      ]
     },
     "metadata": {
      "needs_background": "light"
     },
     "output_type": "display_data"
    }
   ],
   "source": [
    "plt.hist(df_sample[\"label\"])"
   ]
  },
  {
   "cell_type": "markdown",
   "metadata": {},
   "source": [
    "So it's approximately the same proportion, which is suitable"
   ]
  },
  {
   "cell_type": "code",
   "execution_count": 60,
   "metadata": {
    "ExecuteTime": {
     "end_time": "2021-04-15T03:06:28.978700Z",
     "start_time": "2021-04-15T03:06:28.887415Z"
    }
   },
   "outputs": [],
   "source": [
    "df_sample.to_pickle(data_path + \"/sentiment_test.pkl\")"
   ]
  },
  {
   "cell_type": "markdown",
   "metadata": {},
   "source": [
    "The above process is done for train.txt.zip and test.txt.zip sequentially"
   ]
  },
  {
   "cell_type": "markdown",
   "metadata": {},
   "source": [
    "## Data Preprocessing"
   ]
  },
  {
   "cell_type": "code",
   "execution_count": 44,
   "metadata": {
    "ExecuteTime": {
     "end_time": "2021-04-15T02:56:45.095812Z",
     "start_time": "2021-04-15T02:56:42.937248Z"
    }
   },
   "outputs": [],
   "source": [
    "data = pd.read_pickle(data_path + \"/sentiment_train.pkl.zip\")"
   ]
  },
  {
   "cell_type": "code",
   "execution_count": 45,
   "metadata": {
    "ExecuteTime": {
     "end_time": "2021-04-15T02:56:46.509065Z",
     "start_time": "2021-04-15T02:56:46.489356Z"
    }
   },
   "outputs": [
    {
     "data": {
      "text/html": [
       "<div>\n",
       "<style scoped>\n",
       "    .dataframe tbody tr th:only-of-type {\n",
       "        vertical-align: middle;\n",
       "    }\n",
       "\n",
       "    .dataframe tbody tr th {\n",
       "        vertical-align: top;\n",
       "    }\n",
       "\n",
       "    .dataframe thead th {\n",
       "        text-align: right;\n",
       "    }\n",
       "</style>\n",
       "<table border=\"1\" class=\"dataframe\">\n",
       "  <thead>\n",
       "    <tr style=\"text-align: right;\">\n",
       "      <th></th>\n",
       "      <th>label</th>\n",
       "      <th>text</th>\n",
       "    </tr>\n",
       "  </thead>\n",
       "  <tbody>\n",
       "    <tr>\n",
       "      <th>0</th>\n",
       "      <td>__label__2</td>\n",
       "      <td>reat CD: My lovely Pat has one of the GREAT vo...</td>\n",
       "    </tr>\n",
       "    <tr>\n",
       "      <th>1</th>\n",
       "      <td>__label__2</td>\n",
       "      <td>ne of the best game music soundtracks - for a ...</td>\n",
       "    </tr>\n",
       "    <tr>\n",
       "      <th>2</th>\n",
       "      <td>__label__1</td>\n",
       "      <td>atteries died within a year ...: I bought this...</td>\n",
       "    </tr>\n",
       "    <tr>\n",
       "      <th>3</th>\n",
       "      <td>__label__2</td>\n",
       "      <td>orks fine, but Maha Energy is better: Check ou...</td>\n",
       "    </tr>\n",
       "    <tr>\n",
       "      <th>4</th>\n",
       "      <td>__label__2</td>\n",
       "      <td>reat for the non-audiophile: Reviewed quite a ...</td>\n",
       "    </tr>\n",
       "    <tr>\n",
       "      <th>...</th>\n",
       "      <td>...</td>\n",
       "      <td>...</td>\n",
       "    </tr>\n",
       "    <tr>\n",
       "      <th>399995</th>\n",
       "      <td>__label__1</td>\n",
       "      <td>nbelievable- In a Bad Way: We bought this Thom...</td>\n",
       "    </tr>\n",
       "    <tr>\n",
       "      <th>399996</th>\n",
       "      <td>__label__1</td>\n",
       "      <td>lmost Great, Until it Broke...: My son recieve...</td>\n",
       "    </tr>\n",
       "    <tr>\n",
       "      <th>399997</th>\n",
       "      <td>__label__1</td>\n",
       "      <td>isappointed !!!: I bought this toy for my son ...</td>\n",
       "    </tr>\n",
       "    <tr>\n",
       "      <th>399998</th>\n",
       "      <td>__label__2</td>\n",
       "      <td>lassic Jessica Mitford: This is a compilation ...</td>\n",
       "    </tr>\n",
       "    <tr>\n",
       "      <th>399999</th>\n",
       "      <td>__label__1</td>\n",
       "      <td>omedy Scene, and Not Heard: This DVD will be a...</td>\n",
       "    </tr>\n",
       "  </tbody>\n",
       "</table>\n",
       "<p>400000 rows × 2 columns</p>\n",
       "</div>"
      ],
      "text/plain": [
       "             label                                               text\n",
       "0       __label__2  reat CD: My lovely Pat has one of the GREAT vo...\n",
       "1       __label__2  ne of the best game music soundtracks - for a ...\n",
       "2       __label__1  atteries died within a year ...: I bought this...\n",
       "3       __label__2  orks fine, but Maha Energy is better: Check ou...\n",
       "4       __label__2  reat for the non-audiophile: Reviewed quite a ...\n",
       "...            ...                                                ...\n",
       "399995  __label__1  nbelievable- In a Bad Way: We bought this Thom...\n",
       "399996  __label__1  lmost Great, Until it Broke...: My son recieve...\n",
       "399997  __label__1  isappointed !!!: I bought this toy for my son ...\n",
       "399998  __label__2  lassic Jessica Mitford: This is a compilation ...\n",
       "399999  __label__1  omedy Scene, and Not Heard: This DVD will be a...\n",
       "\n",
       "[400000 rows x 2 columns]"
      ]
     },
     "execution_count": 45,
     "metadata": {},
     "output_type": "execute_result"
    }
   ],
   "source": [
    "data"
   ]
  },
  {
   "cell_type": "code",
   "execution_count": null,
   "metadata": {},
   "outputs": [],
   "source": []
  }
 ],
 "metadata": {
  "kernelspec": {
   "display_name": "Python 3",
   "language": "python",
   "name": "python3"
  },
  "language_info": {
   "codemirror_mode": {
    "name": "ipython",
    "version": 3
   },
   "file_extension": ".py",
   "mimetype": "text/x-python",
   "name": "python",
   "nbconvert_exporter": "python",
   "pygments_lexer": "ipython3",
   "version": "3.8.5"
  },
  "toc": {
   "base_numbering": 1,
   "nav_menu": {},
   "number_sections": true,
   "sideBar": true,
   "skip_h1_title": false,
   "title_cell": "Table of Contents",
   "title_sidebar": "Contents",
   "toc_cell": false,
   "toc_position": {},
   "toc_section_display": true,
   "toc_window_display": false
  }
 },
 "nbformat": 4,
 "nbformat_minor": 4
}
