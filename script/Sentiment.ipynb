{
 "cells": [
  {
   "cell_type": "markdown",
   "metadata": {},
   "source": [
    "## Data Sampling"
   ]
  },
  {
   "cell_type": "code",
   "execution_count": 63,
   "metadata": {
    "ExecuteTime": {
     "end_time": "2021-04-15T03:11:16.418377Z",
     "start_time": "2021-04-15T03:11:16.393539Z"
    }
   },
   "outputs": [],
   "source": [
    "import numpy as np\n",
    "import pandas as pd\n",
    "import os\n",
    "import matplotlib.pyplot as plt"
   ]
  },
  {
   "cell_type": "code",
   "execution_count": 70,
   "metadata": {
    "ExecuteTime": {
     "end_time": "2021-04-15T03:13:34.769147Z",
     "start_time": "2021-04-15T03:13:11.280711Z"
    }
   },
   "outputs": [],
   "source": [
    "data_path = os.getcwd().replace('script', 'data')\n",
    "df = pd.read_csv(data_path + \"/train.txt.zip\", sep=\"\\t\", header = None)"
   ]
  },
  {
   "cell_type": "code",
   "execution_count": 71,
   "metadata": {
    "ExecuteTime": {
     "end_time": "2021-04-15T03:13:34.791078Z",
     "start_time": "2021-04-15T03:13:34.773153Z"
    }
   },
   "outputs": [
    {
     "data": {
      "text/html": [
       "<div>\n",
       "<style scoped>\n",
       "    .dataframe tbody tr th:only-of-type {\n",
       "        vertical-align: middle;\n",
       "    }\n",
       "\n",
       "    .dataframe tbody tr th {\n",
       "        vertical-align: top;\n",
       "    }\n",
       "\n",
       "    .dataframe thead th {\n",
       "        text-align: right;\n",
       "    }\n",
       "</style>\n",
       "<table border=\"1\" class=\"dataframe\">\n",
       "  <thead>\n",
       "    <tr style=\"text-align: right;\">\n",
       "      <th></th>\n",
       "      <th>0</th>\n",
       "    </tr>\n",
       "  </thead>\n",
       "  <tbody>\n",
       "    <tr>\n",
       "      <th>0</th>\n",
       "      <td>__label__2 Stuning even for the non-gamer: Thi...</td>\n",
       "    </tr>\n",
       "    <tr>\n",
       "      <th>1</th>\n",
       "      <td>__label__2 The best soundtrack ever to anythin...</td>\n",
       "    </tr>\n",
       "    <tr>\n",
       "      <th>2</th>\n",
       "      <td>__label__2 Amazing!: This soundtrack is my fav...</td>\n",
       "    </tr>\n",
       "    <tr>\n",
       "      <th>3</th>\n",
       "      <td>__label__2 Excellent Soundtrack: I truly like ...</td>\n",
       "    </tr>\n",
       "    <tr>\n",
       "      <th>4</th>\n",
       "      <td>__label__2 Remember, Pull Your Jaw Off The Flo...</td>\n",
       "    </tr>\n",
       "    <tr>\n",
       "      <th>...</th>\n",
       "      <td>...</td>\n",
       "    </tr>\n",
       "    <tr>\n",
       "      <th>3599995</th>\n",
       "      <td>__label__1 Don't do it!!: The high chair looks...</td>\n",
       "    </tr>\n",
       "    <tr>\n",
       "      <th>3599996</th>\n",
       "      <td>__label__1 Looks nice, low functionality: I ha...</td>\n",
       "    </tr>\n",
       "    <tr>\n",
       "      <th>3599997</th>\n",
       "      <td>__label__1 compact, but hard to clean: We have...</td>\n",
       "    </tr>\n",
       "    <tr>\n",
       "      <th>3599998</th>\n",
       "      <td>__label__1 what is it saying?: not sure what t...</td>\n",
       "    </tr>\n",
       "    <tr>\n",
       "      <th>3599999</th>\n",
       "      <td>__label__2 Makes My Blood Run Red-White-And-Bl...</td>\n",
       "    </tr>\n",
       "  </tbody>\n",
       "</table>\n",
       "<p>3600000 rows × 1 columns</p>\n",
       "</div>"
      ],
      "text/plain": [
       "                                                         0\n",
       "0        __label__2 Stuning even for the non-gamer: Thi...\n",
       "1        __label__2 The best soundtrack ever to anythin...\n",
       "2        __label__2 Amazing!: This soundtrack is my fav...\n",
       "3        __label__2 Excellent Soundtrack: I truly like ...\n",
       "4        __label__2 Remember, Pull Your Jaw Off The Flo...\n",
       "...                                                    ...\n",
       "3599995  __label__1 Don't do it!!: The high chair looks...\n",
       "3599996  __label__1 Looks nice, low functionality: I ha...\n",
       "3599997  __label__1 compact, but hard to clean: We have...\n",
       "3599998  __label__1 what is it saying?: not sure what t...\n",
       "3599999  __label__2 Makes My Blood Run Red-White-And-Bl...\n",
       "\n",
       "[3600000 rows x 1 columns]"
      ]
     },
     "execution_count": 71,
     "metadata": {},
     "output_type": "execute_result"
    }
   ],
   "source": [
    "df"
   ]
  },
  {
   "cell_type": "code",
   "execution_count": 72,
   "metadata": {
    "ExecuteTime": {
     "end_time": "2021-04-15T03:13:58.698096Z",
     "start_time": "2021-04-15T03:13:34.792880Z"
    }
   },
   "outputs": [
    {
     "data": {
      "text/html": [
       "<div>\n",
       "<style scoped>\n",
       "    .dataframe tbody tr th:only-of-type {\n",
       "        vertical-align: middle;\n",
       "    }\n",
       "\n",
       "    .dataframe tbody tr th {\n",
       "        vertical-align: top;\n",
       "    }\n",
       "\n",
       "    .dataframe thead th {\n",
       "        text-align: right;\n",
       "    }\n",
       "</style>\n",
       "<table border=\"1\" class=\"dataframe\">\n",
       "  <thead>\n",
       "    <tr style=\"text-align: right;\">\n",
       "      <th></th>\n",
       "      <th>label</th>\n",
       "      <th>text</th>\n",
       "    </tr>\n",
       "  </thead>\n",
       "  <tbody>\n",
       "    <tr>\n",
       "      <th>0</th>\n",
       "      <td>__label__2</td>\n",
       "      <td>tuning even for the non-gamer: This sound trac...</td>\n",
       "    </tr>\n",
       "    <tr>\n",
       "      <th>1</th>\n",
       "      <td>__label__2</td>\n",
       "      <td>he best soundtrack ever to anything.: I'm read...</td>\n",
       "    </tr>\n",
       "    <tr>\n",
       "      <th>2</th>\n",
       "      <td>__label__2</td>\n",
       "      <td>mazing!: This soundtrack is my favorite music ...</td>\n",
       "    </tr>\n",
       "    <tr>\n",
       "      <th>3</th>\n",
       "      <td>__label__2</td>\n",
       "      <td>xcellent Soundtrack: I truly like this soundtr...</td>\n",
       "    </tr>\n",
       "    <tr>\n",
       "      <th>4</th>\n",
       "      <td>__label__2</td>\n",
       "      <td>emember, Pull Your Jaw Off The Floor After Hea...</td>\n",
       "    </tr>\n",
       "    <tr>\n",
       "      <th>...</th>\n",
       "      <td>...</td>\n",
       "      <td>...</td>\n",
       "    </tr>\n",
       "    <tr>\n",
       "      <th>3599995</th>\n",
       "      <td>__label__1</td>\n",
       "      <td>on't do it!!: The high chair looks great when ...</td>\n",
       "    </tr>\n",
       "    <tr>\n",
       "      <th>3599996</th>\n",
       "      <td>__label__1</td>\n",
       "      <td>ooks nice, low functionality: I have used this...</td>\n",
       "    </tr>\n",
       "    <tr>\n",
       "      <th>3599997</th>\n",
       "      <td>__label__1</td>\n",
       "      <td>ompact, but hard to clean: We have a small hou...</td>\n",
       "    </tr>\n",
       "    <tr>\n",
       "      <th>3599998</th>\n",
       "      <td>__label__1</td>\n",
       "      <td>hat is it saying?: not sure what this book is ...</td>\n",
       "    </tr>\n",
       "    <tr>\n",
       "      <th>3599999</th>\n",
       "      <td>__label__2</td>\n",
       "      <td>akes My Blood Run Red-White-And-Blue: I agree ...</td>\n",
       "    </tr>\n",
       "  </tbody>\n",
       "</table>\n",
       "<p>3600000 rows × 2 columns</p>\n",
       "</div>"
      ],
      "text/plain": [
       "              label                                               text\n",
       "0        __label__2  tuning even for the non-gamer: This sound trac...\n",
       "1        __label__2  he best soundtrack ever to anything.: I'm read...\n",
       "2        __label__2  mazing!: This soundtrack is my favorite music ...\n",
       "3        __label__2  xcellent Soundtrack: I truly like this soundtr...\n",
       "4        __label__2  emember, Pull Your Jaw Off The Floor After Hea...\n",
       "...             ...                                                ...\n",
       "3599995  __label__1  on't do it!!: The high chair looks great when ...\n",
       "3599996  __label__1  ooks nice, low functionality: I have used this...\n",
       "3599997  __label__1  ompact, but hard to clean: We have a small hou...\n",
       "3599998  __label__1  hat is it saying?: not sure what this book is ...\n",
       "3599999  __label__2  akes My Blood Run Red-White-And-Blue: I agree ...\n",
       "\n",
       "[3600000 rows x 2 columns]"
      ]
     },
     "execution_count": 72,
     "metadata": {},
     "output_type": "execute_result"
    }
   ],
   "source": [
    "df[\"label\"] = df[0].str[:10]\n",
    "df[\"text\"] = df[0].str[12:]\n",
    "df = df.drop(columns = [0])\n",
    "df"
   ]
  },
  {
   "cell_type": "code",
   "execution_count": 73,
   "metadata": {
    "ExecuteTime": {
     "end_time": "2021-04-15T03:14:02.939975Z",
     "start_time": "2021-04-15T03:14:02.503227Z"
    }
   },
   "outputs": [
    {
     "data": {
      "text/html": [
       "<div>\n",
       "<style scoped>\n",
       "    .dataframe tbody tr th:only-of-type {\n",
       "        vertical-align: middle;\n",
       "    }\n",
       "\n",
       "    .dataframe tbody tr th {\n",
       "        vertical-align: top;\n",
       "    }\n",
       "\n",
       "    .dataframe thead th {\n",
       "        text-align: right;\n",
       "    }\n",
       "</style>\n",
       "<table border=\"1\" class=\"dataframe\">\n",
       "  <thead>\n",
       "    <tr style=\"text-align: right;\">\n",
       "      <th></th>\n",
       "      <th>label</th>\n",
       "      <th>text</th>\n",
       "    </tr>\n",
       "  </thead>\n",
       "  <tbody>\n",
       "    <tr>\n",
       "      <th>0</th>\n",
       "      <td>__label__2</td>\n",
       "      <td>xcellent home help for parents: Volume 1 of Do...</td>\n",
       "    </tr>\n",
       "    <tr>\n",
       "      <th>1</th>\n",
       "      <td>__label__1</td>\n",
       "      <td>tay far, far away.: I made it through about 6,...</td>\n",
       "    </tr>\n",
       "    <tr>\n",
       "      <th>2</th>\n",
       "      <td>__label__1</td>\n",
       "      <td>ost Woods: Lost WoodsI didn't really understan...</td>\n",
       "    </tr>\n",
       "    <tr>\n",
       "      <th>3</th>\n",
       "      <td>__label__1</td>\n",
       "      <td>enaissance -12, Women's brown suead shoes: Rec...</td>\n",
       "    </tr>\n",
       "    <tr>\n",
       "      <th>4</th>\n",
       "      <td>__label__2</td>\n",
       "      <td>est Novel I've Read This Year: Intrigued by th...</td>\n",
       "    </tr>\n",
       "    <tr>\n",
       "      <th>...</th>\n",
       "      <td>...</td>\n",
       "      <td>...</td>\n",
       "    </tr>\n",
       "    <tr>\n",
       "      <th>251995</th>\n",
       "      <td>__label__1</td>\n",
       "      <td>TVs, 2 cases of banding: It took only a coupl...</td>\n",
       "    </tr>\n",
       "    <tr>\n",
       "      <th>251996</th>\n",
       "      <td>__label__2</td>\n",
       "      <td>t's more about childhood...: I think that this...</td>\n",
       "    </tr>\n",
       "    <tr>\n",
       "      <th>251997</th>\n",
       "      <td>__label__2</td>\n",
       "      <td>hineas and ferb: Again, one of those 'kids' ca...</td>\n",
       "    </tr>\n",
       "    <tr>\n",
       "      <th>251998</th>\n",
       "      <td>__label__1</td>\n",
       "      <td>ot what I had hoped for: I ordered this item f...</td>\n",
       "    </tr>\n",
       "    <tr>\n",
       "      <th>251999</th>\n",
       "      <td>__label__1</td>\n",
       "      <td>issing Parts: This wiper blade was an open pac...</td>\n",
       "    </tr>\n",
       "  </tbody>\n",
       "</table>\n",
       "<p>252000 rows × 2 columns</p>\n",
       "</div>"
      ],
      "text/plain": [
       "             label                                               text\n",
       "0       __label__2  xcellent home help for parents: Volume 1 of Do...\n",
       "1       __label__1  tay far, far away.: I made it through about 6,...\n",
       "2       __label__1  ost Woods: Lost WoodsI didn't really understan...\n",
       "3       __label__1  enaissance -12, Women's brown suead shoes: Rec...\n",
       "4       __label__2  est Novel I've Read This Year: Intrigued by th...\n",
       "...            ...                                                ...\n",
       "251995  __label__1   TVs, 2 cases of banding: It took only a coupl...\n",
       "251996  __label__2  t's more about childhood...: I think that this...\n",
       "251997  __label__2  hineas and ferb: Again, one of those 'kids' ca...\n",
       "251998  __label__1  ot what I had hoped for: I ordered this item f...\n",
       "251999  __label__1  issing Parts: This wiper blade was an open pac...\n",
       "\n",
       "[252000 rows x 2 columns]"
      ]
     },
     "execution_count": 73,
     "metadata": {},
     "output_type": "execute_result"
    }
   ],
   "source": [
    "df_sample = df.sample(frac=0.07, replace=False, random_state=1).reset_index().drop(columns = [\"index\"])\n",
    "df_sample"
   ]
  },
  {
   "cell_type": "code",
   "execution_count": 74,
   "metadata": {
    "ExecuteTime": {
     "end_time": "2021-04-15T03:14:07.236517Z",
     "start_time": "2021-04-15T03:14:06.671095Z"
    }
   },
   "outputs": [
    {
     "data": {
      "text/plain": [
       "(array([125842.,      0.,      0.,      0.,      0.,      0.,      0.,\n",
       "             0.,      0., 126158.]),\n",
       " array([0. , 0.1, 0.2, 0.3, 0.4, 0.5, 0.6, 0.7, 0.8, 0.9, 1. ]),\n",
       " <BarContainer object of 10 artists>)"
      ]
     },
     "execution_count": 74,
     "metadata": {},
     "output_type": "execute_result"
    },
    {
     "data": {
      "image/png": "[encoded data removed]",
      "text/plain": [
       "<Figure size 432x288 with 1 Axes>"
      ]
     },
     "metadata": {
      "needs_background": "light"
     },
     "output_type": "display_data"
    }
   ],
   "source": [
    "plt.hist(df_sample[\"label\"])"
   ]
  },
  {
   "cell_type": "markdown",
   "metadata": {},
   "source": [
    "So it's approximately the same proportion, which is suitable"
   ]
  },
  {
   "cell_type": "code",
   "execution_count": 75,
   "metadata": {
    "ExecuteTime": {
     "end_time": "2021-04-15T03:14:15.325296Z",
     "start_time": "2021-04-15T03:14:14.731650Z"
    }
   },
   "outputs": [],
   "source": [
    "df_sample.to_pickle(data_path + \"/sentiment_data.pkl\")"
   ]
  },
  {
   "cell_type": "markdown",
   "metadata": {},
   "source": [
    "The above process is done only for train.txt.zip, and train_test split will be "
   ]
  },
  {
   "cell_type": "markdown",
   "metadata": {},
   "source": [
    "## Data Preprocessing"
   ]
  },
  {
   "cell_type": "code",
   "execution_count": 61,
   "metadata": {
    "ExecuteTime": {
     "end_time": "2021-04-15T03:07:52.977829Z",
     "start_time": "2021-04-15T03:07:51.302572Z"
    }
   },
   "outputs": [],
   "source": [
    "data = pd.read_pickle(data_path + \"/sentiment_train.pkl.zip\")"
   ]
  },
  {
   "cell_type": "code",
   "execution_count": 62,
   "metadata": {
    "ExecuteTime": {
     "end_time": "2021-04-15T03:07:53.645026Z",
     "start_time": "2021-04-15T03:07:53.621868Z"
    }
   },
   "outputs": [
    {
     "data": {
      "text/html": [
       "<div>\n",
       "<style scoped>\n",
       "    .dataframe tbody tr th:only-of-type {\n",
       "        vertical-align: middle;\n",
       "    }\n",
       "\n",
       "    .dataframe tbody tr th {\n",
       "        vertical-align: top;\n",
       "    }\n",
       "\n",
       "    .dataframe thead th {\n",
       "        text-align: right;\n",
       "    }\n",
       "</style>\n",
       "<table border=\"1\" class=\"dataframe\">\n",
       "  <thead>\n",
       "    <tr style=\"text-align: right;\">\n",
       "      <th></th>\n",
       "      <th>label</th>\n",
       "      <th>text</th>\n",
       "    </tr>\n",
       "  </thead>\n",
       "  <tbody>\n",
       "    <tr>\n",
       "      <th>0</th>\n",
       "      <td>__label__2</td>\n",
       "      <td>xcellent home help for parents: Volume 1 of Do...</td>\n",
       "    </tr>\n",
       "    <tr>\n",
       "      <th>1</th>\n",
       "      <td>__label__1</td>\n",
       "      <td>tay far, far away.: I made it through about 6,...</td>\n",
       "    </tr>\n",
       "    <tr>\n",
       "      <th>2</th>\n",
       "      <td>__label__1</td>\n",
       "      <td>ost Woods: Lost WoodsI didn't really understan...</td>\n",
       "    </tr>\n",
       "    <tr>\n",
       "      <th>3</th>\n",
       "      <td>__label__1</td>\n",
       "      <td>enaissance -12, Women's brown suead shoes: Rec...</td>\n",
       "    </tr>\n",
       "    <tr>\n",
       "      <th>4</th>\n",
       "      <td>__label__2</td>\n",
       "      <td>est Novel I've Read This Year: Intrigued by th...</td>\n",
       "    </tr>\n",
       "    <tr>\n",
       "      <th>...</th>\n",
       "      <td>...</td>\n",
       "      <td>...</td>\n",
       "    </tr>\n",
       "    <tr>\n",
       "      <th>359995</th>\n",
       "      <td>__label__1</td>\n",
       "      <td>d player does not work!!!!: GPX BCD1806 Boombo...</td>\n",
       "    </tr>\n",
       "    <tr>\n",
       "      <th>359996</th>\n",
       "      <td>__label__1</td>\n",
       "      <td>uck!: I have made several recipes so far and t...</td>\n",
       "    </tr>\n",
       "    <tr>\n",
       "      <th>359997</th>\n",
       "      <td>__label__1</td>\n",
       "      <td>ot a good purchase: This was a serious disappo...</td>\n",
       "    </tr>\n",
       "    <tr>\n",
       "      <th>359998</th>\n",
       "      <td>__label__2</td>\n",
       "      <td>his is THE best live CD i have ever heard PERI...</td>\n",
       "    </tr>\n",
       "    <tr>\n",
       "      <th>359999</th>\n",
       "      <td>__label__1</td>\n",
       "      <td>good book - now seriously out-dated: This res...</td>\n",
       "    </tr>\n",
       "  </tbody>\n",
       "</table>\n",
       "<p>360000 rows × 2 columns</p>\n",
       "</div>"
      ],
      "text/plain": [
       "             label                                               text\n",
       "0       __label__2  xcellent home help for parents: Volume 1 of Do...\n",
       "1       __label__1  tay far, far away.: I made it through about 6,...\n",
       "2       __label__1  ost Woods: Lost WoodsI didn't really understan...\n",
       "3       __label__1  enaissance -12, Women's brown suead shoes: Rec...\n",
       "4       __label__2  est Novel I've Read This Year: Intrigued by th...\n",
       "...            ...                                                ...\n",
       "359995  __label__1  d player does not work!!!!: GPX BCD1806 Boombo...\n",
       "359996  __label__1  uck!: I have made several recipes so far and t...\n",
       "359997  __label__1  ot a good purchase: This was a serious disappo...\n",
       "359998  __label__2  his is THE best live CD i have ever heard PERI...\n",
       "359999  __label__1   good book - now seriously out-dated: This res...\n",
       "\n",
       "[360000 rows x 2 columns]"
      ]
     },
     "execution_count": 62,
     "metadata": {},
     "output_type": "execute_result"
    }
   ],
   "source": [
    "data"
   ]
  },
  {
   "cell_type": "code",
   "execution_count": null,
   "metadata": {},
   "outputs": [],
   "source": []
  }
 ],
 "metadata": {
  "kernelspec": {
   "display_name": "Python 3",
   "language": "python",
   "name": "python3"
  },
  "language_info": {
   "codemirror_mode": {
    "name": "ipython",
    "version": 3
   },
   "file_extension": ".py",
   "mimetype": "text/x-python",
   "name": "python",
   "nbconvert_exporter": "python",
   "pygments_lexer": "ipython3",
   "version": "3.8.5"
  },
  "toc": {
   "base_numbering": 1,
   "nav_menu": {},
   "number_sections": true,
   "sideBar": true,
   "skip_h1_title": false,
   "title_cell": "Table of Contents",
   "title_sidebar": "Contents",
   "toc_cell": false,
   "toc_position": {},
   "toc_section_display": true,
   "toc_window_display": false
  }
 },
 "nbformat": 4,
 "nbformat_minor": 4
}
