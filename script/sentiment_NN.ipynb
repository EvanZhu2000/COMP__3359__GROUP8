{
 "cells": [
  {
   "cell_type": "code",
   "execution_count": 1,
   "metadata": {
    "ExecuteTime": {
     "end_time": "2021-04-23T15:35:42.015929Z",
     "start_time": "2021-04-23T15:35:20.555081Z"
    },
    "colab": {
     "base_uri": "https://localhost:8080/",
     "height": 1000
    },
    "executionInfo": {
     "elapsed": 22476,
     "status": "ok",
     "timestamp": 1619095767967,
     "user": {
      "displayName": "YU YE",
      "photoUrl": "",
      "userId": "17099835141103746005"
     },
     "user_tz": -480
    },
    "id": "xZjIYkLLi27C",
    "outputId": "f7d5a841-d4ca-4e29-abc3-594d9a6c5754"
   },
   "outputs": [
    {
     "name": "stdout",
     "output_type": "stream",
     "text": [
      "Requirement already satisfied: wordninja==2.0.0 in /Users/zhuzeyu/opt/anaconda3/lib/python3.8/site-packages (2.0.0)\n",
      "Requirement already satisfied: scikit-learn==0.22.2 in /Users/zhuzeyu/opt/anaconda3/lib/python3.8/site-packages (0.22.2)\n",
      "Requirement already satisfied: numpy>=1.11.0 in /Users/zhuzeyu/opt/anaconda3/lib/python3.8/site-packages (from scikit-learn==0.22.2) (1.19.5)\n",
      "Requirement already satisfied: joblib>=0.11 in /Users/zhuzeyu/opt/anaconda3/lib/python3.8/site-packages (from scikit-learn==0.22.2) (0.17.0)\n",
      "Requirement already satisfied: scipy>=0.17.0 in /Users/zhuzeyu/opt/anaconda3/lib/python3.8/site-packages (from scikit-learn==0.22.2) (1.5.2)\n",
      "Requirement already satisfied: lime==0.2.0 in /Users/zhuzeyu/opt/anaconda3/lib/python3.8/site-packages (0.2.0.0)\n",
      "Requirement already satisfied: matplotlib in /Users/zhuzeyu/opt/anaconda3/lib/python3.8/site-packages (from lime==0.2.0) (3.3.2)\n",
      "Requirement already satisfied: scipy in /Users/zhuzeyu/opt/anaconda3/lib/python3.8/site-packages (from lime==0.2.0) (1.5.2)\n",
      "Requirement already satisfied: pillow==5.4.1 in /Users/zhuzeyu/opt/anaconda3/lib/python3.8/site-packages (from lime==0.2.0) (5.4.1)\n",
      "Requirement already satisfied: tqdm in /Users/zhuzeyu/opt/anaconda3/lib/python3.8/site-packages (from lime==0.2.0) (4.50.2)\n",
      "Requirement already satisfied: scikit-image>=0.12 in /Users/zhuzeyu/opt/anaconda3/lib/python3.8/site-packages (from lime==0.2.0) (0.17.2)\n",
      "Requirement already satisfied: scikit-learn>=0.18 in /Users/zhuzeyu/opt/anaconda3/lib/python3.8/site-packages (from lime==0.2.0) (0.22.2)\n",
      "Requirement already satisfied: numpy in /Users/zhuzeyu/opt/anaconda3/lib/python3.8/site-packages (from lime==0.2.0) (1.19.5)\n",
      "Requirement already satisfied: certifi>=2020.06.20 in /Users/zhuzeyu/opt/anaconda3/lib/python3.8/site-packages (from matplotlib->lime==0.2.0) (2020.6.20)\n",
      "Requirement already satisfied: pyparsing!=2.0.4,!=2.1.2,!=2.1.6,>=2.0.3 in /Users/zhuzeyu/opt/anaconda3/lib/python3.8/site-packages (from matplotlib->lime==0.2.0) (2.4.7)\n",
      "Requirement already satisfied: python-dateutil>=2.1 in /Users/zhuzeyu/opt/anaconda3/lib/python3.8/site-packages (from matplotlib->lime==0.2.0) (2.8.1)\n",
      "Requirement already satisfied: cycler>=0.10 in /Users/zhuzeyu/opt/anaconda3/lib/python3.8/site-packages (from matplotlib->lime==0.2.0) (0.10.0)\n",
      "Requirement already satisfied: kiwisolver>=1.0.1 in /Users/zhuzeyu/opt/anaconda3/lib/python3.8/site-packages (from matplotlib->lime==0.2.0) (1.3.0)\n",
      "Requirement already satisfied: networkx>=2.0 in /Users/zhuzeyu/opt/anaconda3/lib/python3.8/site-packages (from scikit-image>=0.12->lime==0.2.0) (2.5)\n",
      "Requirement already satisfied: imageio>=2.3.0 in /Users/zhuzeyu/opt/anaconda3/lib/python3.8/site-packages (from scikit-image>=0.12->lime==0.2.0) (2.9.0)\n",
      "Requirement already satisfied: tifffile>=2019.7.26 in /Users/zhuzeyu/opt/anaconda3/lib/python3.8/site-packages (from scikit-image>=0.12->lime==0.2.0) (2020.10.1)\n",
      "Requirement already satisfied: PyWavelets>=1.1.1 in /Users/zhuzeyu/opt/anaconda3/lib/python3.8/site-packages (from scikit-image>=0.12->lime==0.2.0) (1.1.1)\n",
      "Requirement already satisfied: joblib>=0.11 in /Users/zhuzeyu/opt/anaconda3/lib/python3.8/site-packages (from scikit-learn>=0.18->lime==0.2.0) (0.17.0)\n",
      "Requirement already satisfied: six>=1.5 in /Users/zhuzeyu/opt/anaconda3/lib/python3.8/site-packages (from python-dateutil>=2.1->matplotlib->lime==0.2.0) (1.15.0)\n",
      "Requirement already satisfied: decorator>=4.3.0 in /Users/zhuzeyu/opt/anaconda3/lib/python3.8/site-packages (from networkx>=2.0->scikit-image>=0.12->lime==0.2.0) (4.4.2)\n",
      "Requirement already satisfied: tensorflow in /Users/zhuzeyu/opt/anaconda3/lib/python3.8/site-packages (2.4.1)\n",
      "Requirement already satisfied: protobuf>=3.9.2 in /Users/zhuzeyu/opt/anaconda3/lib/python3.8/site-packages (from tensorflow) (3.15.6)\n",
      "Requirement already satisfied: grpcio~=1.32.0 in /Users/zhuzeyu/opt/anaconda3/lib/python3.8/site-packages (from tensorflow) (1.32.0)\n",
      "Requirement already satisfied: numpy~=1.19.2 in /Users/zhuzeyu/opt/anaconda3/lib/python3.8/site-packages (from tensorflow) (1.19.5)\n",
      "Requirement already satisfied: opt-einsum~=3.3.0 in /Users/zhuzeyu/opt/anaconda3/lib/python3.8/site-packages (from tensorflow) (3.3.0)\n",
      "Requirement already satisfied: wheel~=0.35 in /Users/zhuzeyu/opt/anaconda3/lib/python3.8/site-packages (from tensorflow) (0.35.1)\n",
      "Requirement already satisfied: gast==0.3.3 in /Users/zhuzeyu/opt/anaconda3/lib/python3.8/site-packages (from tensorflow) (0.3.3)\n",
      "Requirement already satisfied: flatbuffers~=1.12.0 in /Users/zhuzeyu/opt/anaconda3/lib/python3.8/site-packages (from tensorflow) (1.12)\n",
      "Requirement already satisfied: absl-py~=0.10 in /Users/zhuzeyu/opt/anaconda3/lib/python3.8/site-packages (from tensorflow) (0.12.0)\n",
      "Requirement already satisfied: wrapt~=1.12.1 in /Users/zhuzeyu/opt/anaconda3/lib/python3.8/site-packages (from tensorflow) (1.12.1)\n",
      "Requirement already satisfied: tensorboard~=2.4 in /Users/zhuzeyu/opt/anaconda3/lib/python3.8/site-packages (from tensorflow) (2.4.1)\n",
      "Requirement already satisfied: keras-preprocessing~=1.1.2 in /Users/zhuzeyu/opt/anaconda3/lib/python3.8/site-packages (from tensorflow) (1.1.2)\n",
      "Requirement already satisfied: google-pasta~=0.2 in /Users/zhuzeyu/opt/anaconda3/lib/python3.8/site-packages (from tensorflow) (0.2.0)\n",
      "Requirement already satisfied: termcolor~=1.1.0 in /Users/zhuzeyu/opt/anaconda3/lib/python3.8/site-packages (from tensorflow) (1.1.0)\n",
      "Requirement already satisfied: typing-extensions~=3.7.4 in /Users/zhuzeyu/opt/anaconda3/lib/python3.8/site-packages (from tensorflow) (3.7.4.3)\n",
      "Requirement already satisfied: astunparse~=1.6.3 in /Users/zhuzeyu/opt/anaconda3/lib/python3.8/site-packages (from tensorflow) (1.6.3)\n",
      "Requirement already satisfied: tensorflow-estimator<2.5.0,>=2.4.0 in /Users/zhuzeyu/opt/anaconda3/lib/python3.8/site-packages (from tensorflow) (2.4.0)\n",
      "Requirement already satisfied: six~=1.15.0 in /Users/zhuzeyu/opt/anaconda3/lib/python3.8/site-packages (from tensorflow) (1.15.0)\n",
      "Requirement already satisfied: h5py~=2.10.0 in /Users/zhuzeyu/opt/anaconda3/lib/python3.8/site-packages (from tensorflow) (2.10.0)\n",
      "Requirement already satisfied: markdown>=2.6.8 in /Users/zhuzeyu/opt/anaconda3/lib/python3.8/site-packages (from tensorboard~=2.4->tensorflow) (3.3.4)\n",
      "Requirement already satisfied: google-auth<2,>=1.6.3 in /Users/zhuzeyu/opt/anaconda3/lib/python3.8/site-packages (from tensorboard~=2.4->tensorflow) (1.28.0)\n",
      "Requirement already satisfied: werkzeug>=0.11.15 in /Users/zhuzeyu/opt/anaconda3/lib/python3.8/site-packages (from tensorboard~=2.4->tensorflow) (1.0.1)\n",
      "Requirement already satisfied: requests<3,>=2.21.0 in /Users/zhuzeyu/opt/anaconda3/lib/python3.8/site-packages (from tensorboard~=2.4->tensorflow) (2.24.0)\n",
      "Requirement already satisfied: google-auth-oauthlib<0.5,>=0.4.1 in /Users/zhuzeyu/opt/anaconda3/lib/python3.8/site-packages (from tensorboard~=2.4->tensorflow) (0.4.3)\n",
      "Requirement already satisfied: tensorboard-plugin-wit>=1.6.0 in /Users/zhuzeyu/opt/anaconda3/lib/python3.8/site-packages (from tensorboard~=2.4->tensorflow) (1.8.0)\n",
      "Requirement already satisfied: setuptools>=41.0.0 in /Users/zhuzeyu/opt/anaconda3/lib/python3.8/site-packages (from tensorboard~=2.4->tensorflow) (50.3.1.post20201107)\n",
      "Requirement already satisfied: cachetools<5.0,>=2.0.0 in /Users/zhuzeyu/opt/anaconda3/lib/python3.8/site-packages (from google-auth<2,>=1.6.3->tensorboard~=2.4->tensorflow) (4.2.1)\n",
      "Requirement already satisfied: rsa<5,>=3.1.4; python_version >= \"3.6\" in /Users/zhuzeyu/opt/anaconda3/lib/python3.8/site-packages (from google-auth<2,>=1.6.3->tensorboard~=2.4->tensorflow) (4.7.2)\n",
      "Requirement already satisfied: pyasn1-modules>=0.2.1 in /Users/zhuzeyu/opt/anaconda3/lib/python3.8/site-packages (from google-auth<2,>=1.6.3->tensorboard~=2.4->tensorflow) (0.2.8)\n",
      "Requirement already satisfied: chardet<4,>=3.0.2 in /Users/zhuzeyu/opt/anaconda3/lib/python3.8/site-packages (from requests<3,>=2.21.0->tensorboard~=2.4->tensorflow) (3.0.4)\n",
      "Requirement already satisfied: certifi>=2017.4.17 in /Users/zhuzeyu/opt/anaconda3/lib/python3.8/site-packages (from requests<3,>=2.21.0->tensorboard~=2.4->tensorflow) (2020.6.20)\n",
      "Requirement already satisfied: urllib3!=1.25.0,!=1.25.1,<1.26,>=1.21.1 in /Users/zhuzeyu/opt/anaconda3/lib/python3.8/site-packages (from requests<3,>=2.21.0->tensorboard~=2.4->tensorflow) (1.25.11)\n"
     ]
    },
    {
     "name": "stdout",
     "output_type": "stream",
     "text": [
      "Requirement already satisfied: idna<3,>=2.5 in /Users/zhuzeyu/opt/anaconda3/lib/python3.8/site-packages (from requests<3,>=2.21.0->tensorboard~=2.4->tensorflow) (2.10)\r\n",
      "Requirement already satisfied: requests-oauthlib>=0.7.0 in /Users/zhuzeyu/opt/anaconda3/lib/python3.8/site-packages (from google-auth-oauthlib<0.5,>=0.4.1->tensorboard~=2.4->tensorflow) (1.3.0)\r\n",
      "Requirement already satisfied: pyasn1>=0.1.3 in /Users/zhuzeyu/opt/anaconda3/lib/python3.8/site-packages (from rsa<5,>=3.1.4; python_version >= \"3.6\"->google-auth<2,>=1.6.3->tensorboard~=2.4->tensorflow) (0.4.8)\r\n",
      "Requirement already satisfied: oauthlib>=3.0.0 in /Users/zhuzeyu/opt/anaconda3/lib/python3.8/site-packages (from requests-oauthlib>=0.7.0->google-auth-oauthlib<0.5,>=0.4.1->tensorboard~=2.4->tensorflow) (3.1.0)\r\n"
     ]
    }
   ],
   "source": [
    "!pip3 install wordninja==2.0.0             # for splitting joined words\n",
    "!pip3 install scikit-learn==0.22.2         # for one-hot encoding\n",
    "!pip3 install lime==0.2.0                  # for explaining model predictions\n",
    "!pip3 install tensorflow"
   ]
  },
  {
   "cell_type": "code",
   "execution_count": 3,
   "metadata": {
    "colab": {
     "base_uri": "https://localhost:8080/"
    },
    "executionInfo": {
     "elapsed": 19516,
     "status": "ok",
     "timestamp": 1619095792623,
     "user": {
      "displayName": "YU YE",
      "photoUrl": "",
      "userId": "17099835141103746005"
     },
     "user_tz": -480
    },
    "id": "kEpXjTz8jHEh",
    "outputId": "659e7b10-7a49-41e7-87c9-5677990e5d9d"
   },
   "outputs": [
    {
     "name": "stdout",
     "output_type": "stream",
     "text": [
      "Mounted at /content/drive\n"
     ]
    }
   ],
   "source": [
    "# # Mount Google Drive\n",
    "# from google.colab import drive\n",
    "# drive.mount('/content/drive')"
   ]
  },
  {
   "cell_type": "code",
   "execution_count": 2,
   "metadata": {
    "ExecuteTime": {
     "end_time": "2021-04-23T15:35:51.797353Z",
     "start_time": "2021-04-23T15:35:42.019023Z"
    },
    "colab": {
     "base_uri": "https://localhost:8080/"
    },
    "executionInfo": {
     "elapsed": 3505,
     "status": "ok",
     "timestamp": 1619095799863,
     "user": {
      "displayName": "YU YE",
      "photoUrl": "",
      "userId": "17099835141103746005"
     },
     "user_tz": -480
    },
    "id": "lP0Pd3rEjT8b",
    "outputId": "1a098c98-d0e6-4349-d04f-1ae5d0ad241a"
   },
   "outputs": [
    {
     "name": "stdout",
     "output_type": "stream",
     "text": [
      "WARNING:tensorflow:From <ipython-input-2-71c57fbc687f>:8: is_gpu_available (from tensorflow.python.framework.test_util) is deprecated and will be removed in a future version.\n",
      "Instructions for updating:\n",
      "Use `tf.config.list_physical_devices('GPU')` instead.\n",
      "Is GPU available:  False\n",
      "GPU(s) found: \n",
      "[]\n"
     ]
    }
   ],
   "source": [
    "\n",
    "import numpy as np\n",
    "import pandas as pd\n",
    "import os\n",
    "import matplotlib.pyplot as plt\n",
    "from lime.lime_text import LimeTextExplainer\n",
    "import tensorflow as tf\n",
    "# Check if any GPU is detected\n",
    "print(\"Is GPU available: \", tf.test.is_gpu_available())\n",
    "print(\"GPU(s) found: \")\n",
    "print(tf.config.experimental.list_physical_devices('GPU'))"
   ]
  },
  {
   "cell_type": "code",
   "execution_count": 5,
   "metadata": {
    "executionInfo": {
     "elapsed": 27025,
     "status": "ok",
     "timestamp": 1619095830199,
     "user": {
      "displayName": "YU YE",
      "photoUrl": "",
      "userId": "17099835141103746005"
     },
     "user_tz": -480
    },
    "id": "XxpNu193ja3L"
   },
   "outputs": [],
   "source": [
    "# data = pd.read_csv(\"/content/drive/My Drive/3359 project/COMP_3359_GROUP8-main/data/train.csv\")"
   ]
  },
  {
   "cell_type": "code",
   "execution_count": 4,
   "metadata": {
    "ExecuteTime": {
     "end_time": "2021-04-23T15:36:08.242466Z",
     "start_time": "2021-04-23T15:36:08.233499Z"
    }
   },
   "outputs": [
    {
     "name": "stdout",
     "output_type": "stream",
     "text": [
      "/Users/zhuzeyu/Desktop/COMP3359/Project/COMP__3359__GROUP8/data\n",
      "/Users/zhuzeyu/Desktop/COMP3359/Project/COMP__3359__GROUP8/data/glove.6B.50d.txt\n"
     ]
    }
   ],
   "source": [
    "data_path = os.getcwd().replace('script', 'data')\n",
    "print(data_path)\n",
    "glove_path = data_path + '/glove.6B.50d.txt'\n",
    "print(glove_path)"
   ]
  },
  {
   "cell_type": "code",
   "execution_count": 8,
   "metadata": {
    "ExecuteTime": {
     "end_time": "2021-04-23T15:37:13.114030Z",
     "start_time": "2021-04-23T15:37:11.150521Z"
    }
   },
   "outputs": [
    {
     "data": {
      "text/html": [
       "<div>\n",
       "<style scoped>\n",
       "    .dataframe tbody tr th:only-of-type {\n",
       "        vertical-align: middle;\n",
       "    }\n",
       "\n",
       "    .dataframe tbody tr th {\n",
       "        vertical-align: top;\n",
       "    }\n",
       "\n",
       "    .dataframe thead th {\n",
       "        text-align: right;\n",
       "    }\n",
       "</style>\n",
       "<table border=\"1\" class=\"dataframe\">\n",
       "  <thead>\n",
       "    <tr style=\"text-align: right;\">\n",
       "      <th></th>\n",
       "      <th>label</th>\n",
       "      <th>text</th>\n",
       "    </tr>\n",
       "  </thead>\n",
       "  <tbody>\n",
       "    <tr>\n",
       "      <th>0</th>\n",
       "      <td>2</td>\n",
       "      <td>xcellent home help for parents: Volume 1 of Do...</td>\n",
       "    </tr>\n",
       "    <tr>\n",
       "      <th>1</th>\n",
       "      <td>1</td>\n",
       "      <td>tay far, far away.: I made it through about 6,...</td>\n",
       "    </tr>\n",
       "    <tr>\n",
       "      <th>2</th>\n",
       "      <td>1</td>\n",
       "      <td>ost Woods: Lost WoodsI didn't really understan...</td>\n",
       "    </tr>\n",
       "    <tr>\n",
       "      <th>3</th>\n",
       "      <td>1</td>\n",
       "      <td>enaissance -12, Women's brown suead shoes: Rec...</td>\n",
       "    </tr>\n",
       "    <tr>\n",
       "      <th>4</th>\n",
       "      <td>2</td>\n",
       "      <td>est Novel I've Read This Year: Intrigued by th...</td>\n",
       "    </tr>\n",
       "  </tbody>\n",
       "</table>\n",
       "</div>"
      ],
      "text/plain": [
       "  label                                               text\n",
       "0     2  xcellent home help for parents: Volume 1 of Do...\n",
       "1     1  tay far, far away.: I made it through about 6,...\n",
       "2     1  ost Woods: Lost WoodsI didn't really understan...\n",
       "3     1  enaissance -12, Women's brown suead shoes: Rec...\n",
       "4     2  est Novel I've Read This Year: Intrigued by th..."
      ]
     },
     "execution_count": 8,
     "metadata": {},
     "output_type": "execute_result"
    }
   ],
   "source": [
    "data = pd.read_pickle(data_path + '/sentiment_data.pkl.zip')\n",
    "data[\"label\"] = data[\"label\"].str[9:10]\n",
    "data.head()"
   ]
  },
  {
   "cell_type": "code",
   "execution_count": 7,
   "metadata": {
    "ExecuteTime": {
     "end_time": "2021-04-23T15:36:49.050667Z",
     "start_time": "2021-04-23T15:36:49.027917Z"
    },
    "deletable": false,
    "editable": false,
    "executionInfo": {
     "elapsed": 1407,
     "status": "ok",
     "timestamp": 1619096093368,
     "user": {
      "displayName": "YU YE",
      "photoUrl": "",
      "userId": "17099835141103746005"
     },
     "user_tz": -480
    },
    "id": "0p35Wwqguv9j",
    "run_control": {
     "frozen": true
    }
   },
   "outputs": [],
   "source": [
    "data=data.sample(frac=0.01, replace=False, random_state=1).reset_index().drop(columns = [\"index\"])"
   ]
  },
  {
   "cell_type": "code",
   "execution_count": 9,
   "metadata": {
    "ExecuteTime": {
     "end_time": "2021-04-23T15:37:23.221760Z",
     "start_time": "2021-04-23T15:37:23.208637Z"
    },
    "executionInfo": {
     "elapsed": 775,
     "status": "ok",
     "timestamp": 1619097226822,
     "user": {
      "displayName": "YU YE",
      "photoUrl": "",
      "userId": "17099835141103746005"
     },
     "user_tz": -480
    },
    "id": "vEkHaENw451C"
   },
   "outputs": [],
   "source": [
    "from string import punctuation\n",
    "from collections import defaultdict\n",
    "import numpy as np\n",
    "\n",
    "def load_embedding_from_disks(glove_filename, with_indexes=True):\n",
    "    \"\"\"\n",
    "    Read a GloVe txt file. If `with_indexes=True`, we return a tuple of two dictionnaries\n",
    "    `(word_to_index_dict, index_to_embedding_array)`, otherwise we return only a direct \n",
    "    `word_to_embedding_dict` dictionnary mapping from a string to a numpy array.\n",
    "    \"\"\"\n",
    "    if with_indexes:\n",
    "        word_to_index_dict = dict()\n",
    "        index_to_embedding_array = []\n",
    "    else:\n",
    "        word_to_embedding_dict = dict()\n",
    "\n",
    "    \n",
    "    with open(glove_filename, 'r') as glove_file:\n",
    "        for (i, line) in enumerate(glove_file):\n",
    "            \n",
    "            split = line.split(' ')\n",
    "            \n",
    "            word = split[0]\n",
    "            \n",
    "            representation = split[1:]\n",
    "            representation = np.array(\n",
    "                [float(val) for val in representation]\n",
    "            )\n",
    "            \n",
    "            if with_indexes:\n",
    "                word_to_index_dict[word] = i\n",
    "                index_to_embedding_array.append(representation)\n",
    "            else:\n",
    "                word_to_embedding_dict[word] = representation\n",
    "\n",
    "    _WORD_NOT_FOUND = [0.0]* len(representation)  # Empty representation for unknown words.\n",
    "    if with_indexes:\n",
    "        _LAST_INDEX = i + 1\n",
    "        word_to_index_dict = defaultdict(lambda: _LAST_INDEX, word_to_index_dict)\n",
    "        index_to_embedding_array = np.array(index_to_embedding_array + [_WORD_NOT_FOUND])\n",
    "        return word_to_index_dict, index_to_embedding_array\n",
    "    else:\n",
    "        word_to_embedding_dict = defaultdict(lambda: _WORD_NOT_FOUND)\n",
    "        return word_to_embedding_dict\n",
    "\n",
    "\n",
    "def sentence_to_word_ids(sentence, word_to_index):\n",
    "    \"\"\"\n",
    "    Note: there might be a better way to split sentences for GloVe.\n",
    "    Please look at the documentation or open an issue to suggest a fix.\n",
    "    \"\"\"\n",
    "    # Separating punctuation from words:\n",
    "    for punctuation_character in punctuation:\n",
    "        sentence = sentence.replace(punctuation_character, \" {} \".format(punctuation_character))\n",
    "    # Removing double spaces and lowercasing:\n",
    "    sentence = sentence.replace(\"  \", \" \").replace(\"  \", \" \").lower().strip()\n",
    "    # Splitting on every space:\n",
    "    split_sentence = sentence.split(\" \")\n",
    "    # Converting to IDs:\n",
    "    ids = [word_to_index[w.strip()] for w in split_sentence]\n",
    "    return ids, split_sentence"
   ]
  },
  {
   "cell_type": "code",
   "execution_count": 10,
   "metadata": {
    "ExecuteTime": {
     "end_time": "2021-04-23T15:37:38.696867Z",
     "start_time": "2021-04-23T15:37:23.859386Z"
    },
    "colab": {
     "base_uri": "https://localhost:8080/"
    },
    "executionInfo": {
     "elapsed": 20708,
     "status": "ok",
     "timestamp": 1619096124361,
     "user": {
      "displayName": "YU YE",
      "photoUrl": "",
      "userId": "17099835141103746005"
     },
     "user_tz": -480
    },
    "id": "kx-b8Vdm5ASa",
    "outputId": "bf9460f2-3110-467e-c137-d5766a7847b2"
   },
   "outputs": [
    {
     "data": {
      "text/plain": [
       "(400002, 50)"
      ]
     },
     "execution_count": 10,
     "metadata": {},
     "output_type": "execute_result"
    }
   ],
   "source": [
    "word_to_index_dict, index_to_embedding_array = load_embedding_from_disks(glove_path, with_indexes=True)\n",
    "index_to_embedding_array.shape"
   ]
  },
  {
   "cell_type": "code",
   "execution_count": 13,
   "metadata": {
    "ExecuteTime": {
     "end_time": "2021-04-23T15:38:01.082677Z",
     "start_time": "2021-04-23T15:38:00.836660Z"
    },
    "executionInfo": {
     "elapsed": 808,
     "status": "ok",
     "timestamp": 1619096897734,
     "user": {
      "displayName": "YU YE",
      "photoUrl": "",
      "userId": "17099835141103746005"
     },
     "user_tz": -480
    },
    "id": "HSMXMtux5Im6"
   },
   "outputs": [],
   "source": [
    "from sklearn.model_selection import train_test_split\n",
    "from sklearn import preprocessing\n",
    "X = data['text'].to_numpy()\n",
    "y_beforelabel = data['label'].to_numpy()\n",
    "le_y = preprocessing.LabelEncoder()\n",
    "oe_y = preprocessing.OneHotEncoder()\n",
    "temp_y = le_y.fit_transform(y_beforelabel).reshape(-1, 1)\n",
    "X_train, X_traindev, temp_y_train, temp_y_traindev = train_test_split(X, temp_y, test_size=0.2, random_state=42)\n",
    "y_train = oe_y.fit_transform(temp_y_train).toarray()\n",
    "y_traindev = oe_y.fit_transform(temp_y_traindev).toarray()"
   ]
  },
  {
   "cell_type": "code",
   "execution_count": 14,
   "metadata": {
    "ExecuteTime": {
     "end_time": "2021-04-23T15:38:02.402211Z",
     "start_time": "2021-04-23T15:38:02.396019Z"
    },
    "colab": {
     "base_uri": "https://localhost:8080/"
    },
    "executionInfo": {
     "elapsed": 788,
     "status": "ok",
     "timestamp": 1619101765551,
     "user": {
      "displayName": "YU YE",
      "photoUrl": "",
      "userId": "17099835141103746005"
     },
     "user_tz": -480
    },
    "id": "VyczJ8gI9peI",
    "outputId": "eea01045-3fa1-4035-bc26-c1913a2241d0"
   },
   "outputs": [
    {
     "data": {
      "text/plain": [
       "array([\"OW!!! Incredible!!!: This was the first novel I ever read of L.Spencer's,to say the least this book had me hooked from the beginning. Ms.Spencer has an incredible talent!Her description of the scenery made me feel as if I my self have been to Camden. Since I first read this book, a year and a half ago, I have since read 13 other novels by her.She is a very gifted woman. I highly recommend this book as well as all her others,\",\n",
       "       'O NOT WASTE YOUR MONEY!!!: This guide tells you absolutely nothing except to go online for more info. Load of crap. If I wanted an online guide I would not have bought a paper one. This is a waste of your money AND your time. BUYER BEWARE!!',\n",
       "       \"ery Disappointing: The product was delivered quickly and was well packaged, to be fair. I plugged it in for charging and, after a full day, it still couldn't completely remove a cork from a wine bottle (it made about three revolutions before dying). I plugged it in again for another day and still had no luck with trying to open the wine bottle. I contacted Amazon and they immediately issued a refund and sent me a label for returning the item. I purchased the opener, in part, based on the brand name. Based on the disappointing experience with this particular opener, I wasn't inclined to get a replacement and opted for the refund.\",\n",
       "       ...,\n",
       "       '6 inch chain saw blade: The product was just as described and would have worked perfectly if I had ordered the correct chain for my saw.',\n",
       "       \"rave disappointment: Despite some negative Amazon reviews, I bought this book with an open mind, hoping that it would illuminate Zarqawi's shadowy background. However, there are such glaring - and embarrassing - factual errors that one has to doubt the veracity of any new information the author presents. For example, on page 65, the author writes that in October 1999, Pakistani General Pervez Musharraf overthrew Benazir Bhutto's government. In fact, Musharraf deposed Bhutto's main political rival, Nawaz Sharif - since Bhutto was out of power after Sharif's party defeated hers in a 1997 election. How can the author be trusted to write authoritatively on anything involving Pakistan, Afghanistan, etc. if he can't get the simplest stuff straight?\",\n",
       "       \"0's Gal: Well I'm not really a 50's girl but this music is pretty good. There might be 5 or 6 songs that I don't like but I thinkthat that is really good for a 25 or 24 track CD.\"],\n",
       "      dtype=object)"
      ]
     },
     "execution_count": 14,
     "metadata": {},
     "output_type": "execute_result"
    }
   ],
   "source": [
    "X_train"
   ]
  },
  {
   "cell_type": "code",
   "execution_count": 18,
   "metadata": {
    "ExecuteTime": {
     "end_time": "2021-04-23T15:39:12.881152Z",
     "start_time": "2021-04-23T15:39:12.875917Z"
    },
    "executionInfo": {
     "elapsed": 1659,
     "status": "ok",
     "timestamp": 1619105054175,
     "user": {
      "displayName": "YU YE",
      "photoUrl": "",
      "userId": "17099835141103746005"
     },
     "user_tz": -480
    },
    "id": "lW2otu8g5Z-f"
   },
   "outputs": [],
   "source": [
    "def make_complete(x):\n",
    "    #length = max(map(len, x))\n",
    "    length = 400\n",
    "    return np.array([xi+[0]*(length-len(xi)) for xi in x])"
   ]
  },
  {
   "cell_type": "code",
   "execution_count": 19,
   "metadata": {
    "ExecuteTime": {
     "end_time": "2021-04-23T15:40:06.968219Z",
     "start_time": "2021-04-23T15:39:13.218556Z"
    },
    "executionInfo": {
     "elapsed": 5532,
     "status": "ok",
     "timestamp": 1619105066972,
     "user": {
      "displayName": "YU YE",
      "photoUrl": "",
      "userId": "17099835141103746005"
     },
     "user_tz": -480
    },
    "id": "3QqGstY-tc85"
   },
   "outputs": [],
   "source": [
    "X_train_token = make_complete( sentence_to_word_ids(x, word_to_index_dict)[0] for x in X_train  )\n",
    "X_traindev_token = make_complete([ sentence_to_word_ids(x, word_to_index_dict)[0] for x in X_traindev ])"
   ]
  },
  {
   "cell_type": "code",
   "execution_count": 20,
   "metadata": {
    "ExecuteTime": {
     "end_time": "2021-04-23T15:40:07.030606Z",
     "start_time": "2021-04-23T15:40:07.012785Z"
    },
    "colab": {
     "base_uri": "https://localhost:8080/"
    },
    "executionInfo": {
     "elapsed": 1880,
     "status": "ok",
     "timestamp": 1619105079779,
     "user": {
      "displayName": "YU YE",
      "photoUrl": "",
      "userId": "17099835141103746005"
     },
     "user_tz": -480
    },
    "id": "RdB0riEWtchc",
    "outputId": "7d8088cb-0927-48ec-92d8-0799af71980f"
   },
   "outputs": [
    {
     "data": {
      "text/plain": [
       "array([[ 66125,    805,    805, ...,      0,      0,      0],\n",
       "       [  4868,     36,   3631, ...,      0,      0,      0],\n",
       "       [231239,   5407,     45, ...,      0,      0,      0],\n",
       "       ...,\n",
       "       [   524,   6521,   2853, ...,      0,      0,      0],\n",
       "       [ 20506,   6712,     45, ...,      0,      0,      0],\n",
       "       [  1343,     57,   1534, ...,      0,      0,      0]])"
      ]
     },
     "execution_count": 20,
     "metadata": {},
     "output_type": "execute_result"
    }
   ],
   "source": [
    "X_train_token"
   ]
  },
  {
   "cell_type": "code",
   "execution_count": 21,
   "metadata": {
    "ExecuteTime": {
     "end_time": "2021-04-23T15:40:56.089538Z",
     "start_time": "2021-04-23T15:40:56.044606Z"
    },
    "executionInfo": {
     "elapsed": 1654,
     "status": "ok",
     "timestamp": 1619105085987,
     "user": {
      "displayName": "YU YE",
      "photoUrl": "",
      "userId": "17099835141103746005"
     },
     "user_tz": -480
    },
    "id": "hRFHjjaG5lUY"
   },
   "outputs": [],
   "source": [
    "BATCH_SIZE = 128\n",
    "# Training set data pipeline\n",
    "train_ds_glove = tf.data.Dataset.from_tensor_slices((X_train_token, y_train))   \n",
    "train_ds_glove = train_ds_glove.shuffle(buffer_size=len(X_train_token))                \n",
    "train_ds_glove = train_ds_glove.batch(batch_size=BATCH_SIZE)                     \n",
    "# Test set data pipeline\n",
    "traindev_ds_glove = tf.data.Dataset.from_tensor_slices((X_traindev_token, y_traindev))\n",
    "traindev_ds_glove = traindev_ds_glove.batch(batch_size=BATCH_SIZE)"
   ]
  },
  {
   "cell_type": "code",
   "execution_count": 22,
   "metadata": {
    "ExecuteTime": {
     "end_time": "2021-04-23T15:46:29.290289Z",
     "start_time": "2021-04-23T15:40:57.331179Z"
    },
    "colab": {
     "base_uri": "https://localhost:8080/"
    },
    "executionInfo": {
     "elapsed": 55703,
     "status": "ok",
     "timestamp": 1619105146255,
     "user": {
      "displayName": "YU YE",
      "photoUrl": "",
      "userId": "17099835141103746005"
     },
     "user_tz": -480
    },
    "id": "OGeKzESG6bSj",
    "outputId": "45bff850-4a52-433e-ae65-7b1b8d640a9c",
    "scrolled": true
   },
   "outputs": [
    {
     "name": "stdout",
     "output_type": "stream",
     "text": [
      "Vocab Size:  400002\n",
      "Embedding Dim:  50\n",
      "Model: \"sequential\"\n",
      "_________________________________________________________________\n",
      "Layer (type)                 Output Shape              Param #   \n",
      "=================================================================\n",
      "embedding (Embedding)        (None, None, 50)          20000100  \n",
      "_________________________________________________________________\n",
      "global_average_pooling1d (Gl (None, 50)                0         \n",
      "_________________________________________________________________\n",
      "dense (Dense)                (None, 25)                1275      \n",
      "_________________________________________________________________\n",
      "dense_1 (Dense)              (None, 2)                 52        \n",
      "=================================================================\n",
      "Total params: 20,001,427\n",
      "Trainable params: 1,327\n",
      "Non-trainable params: 20,000,100\n",
      "_________________________________________________________________\n",
      "None\n",
      "Epoch 1/30\n",
      "1575/1575 [==============================] - 14s 7ms/step - loss: 0.6364 - accuracy: 0.6306 - val_loss: 0.5316 - val_accuracy: 0.7404\n",
      "Epoch 2/30\n",
      "1575/1575 [==============================] - 9s 5ms/step - loss: 0.5493 - accuracy: 0.7231 - val_loss: 0.5339 - val_accuracy: 0.7289\n",
      "Epoch 3/30\n",
      "1575/1575 [==============================] - 9s 5ms/step - loss: 0.5419 - accuracy: 0.7263 - val_loss: 0.5278 - val_accuracy: 0.7398\n",
      "Epoch 4/30\n",
      "1575/1575 [==============================] - 9s 5ms/step - loss: 0.5368 - accuracy: 0.7291 - val_loss: 0.5373 - val_accuracy: 0.7268\n",
      "Epoch 5/30\n",
      "1575/1575 [==============================] - 9s 5ms/step - loss: 0.5324 - accuracy: 0.7334 - val_loss: 0.5009 - val_accuracy: 0.7451\n",
      "Epoch 6/30\n",
      "1575/1575 [==============================] - 9s 5ms/step - loss: 0.5292 - accuracy: 0.7345 - val_loss: 0.5414 - val_accuracy: 0.7190\n",
      "Epoch 7/30\n",
      "1575/1575 [==============================] - 9s 5ms/step - loss: 0.5282 - accuracy: 0.7359 - val_loss: 0.5346 - val_accuracy: 0.7237\n",
      "Epoch 8/30\n",
      "1575/1575 [==============================] - 9s 5ms/step - loss: 0.5259 - accuracy: 0.7365 - val_loss: 0.5067 - val_accuracy: 0.7445\n",
      "Epoch 9/30\n",
      "1575/1575 [==============================] - 9s 5ms/step - loss: 0.5276 - accuracy: 0.7360 - val_loss: 0.5418 - val_accuracy: 0.7146\n",
      "Epoch 10/30\n",
      "1575/1575 [==============================] - 9s 5ms/step - loss: 0.5258 - accuracy: 0.7366 - val_loss: 0.4969 - val_accuracy: 0.7503\n",
      "Epoch 11/30\n",
      "1575/1575 [==============================] - 12s 7ms/step - loss: 0.5227 - accuracy: 0.7404 - val_loss: 0.4987 - val_accuracy: 0.7437\n",
      "Epoch 12/30\n",
      "1575/1575 [==============================] - 9s 5ms/step - loss: 0.5230 - accuracy: 0.7400 - val_loss: 0.4982 - val_accuracy: 0.7505\n",
      "Epoch 13/30\n",
      "1575/1575 [==============================] - 9s 5ms/step - loss: 0.5219 - accuracy: 0.7412 - val_loss: 0.5062 - val_accuracy: 0.7458\n",
      "Epoch 14/30\n",
      "1575/1575 [==============================] - 10s 6ms/step - loss: 0.5224 - accuracy: 0.7402 - val_loss: 0.4954 - val_accuracy: 0.7536\n",
      "Epoch 15/30\n",
      "1575/1575 [==============================] - 9s 5ms/step - loss: 0.5211 - accuracy: 0.7405 - val_loss: 0.5063 - val_accuracy: 0.7495\n",
      "Epoch 16/30\n",
      "1575/1575 [==============================] - 9s 5ms/step - loss: 0.5200 - accuracy: 0.7400 - val_loss: 0.4984 - val_accuracy: 0.7513\n",
      "Epoch 17/30\n",
      "1575/1575 [==============================] - 9s 5ms/step - loss: 0.5196 - accuracy: 0.7417 - val_loss: 0.4938 - val_accuracy: 0.7513\n",
      "Epoch 18/30\n",
      "1575/1575 [==============================] - 9s 5ms/step - loss: 0.5190 - accuracy: 0.7423 - val_loss: 0.4947 - val_accuracy: 0.7516\n",
      "Epoch 19/30\n",
      "1575/1575 [==============================] - 9s 5ms/step - loss: 0.5196 - accuracy: 0.7426 - val_loss: 0.5006 - val_accuracy: 0.7513\n",
      "Epoch 20/30\n",
      "1575/1575 [==============================] - 12s 7ms/step - loss: 0.5177 - accuracy: 0.7429 - val_loss: 0.5039 - val_accuracy: 0.7443\n",
      "Epoch 21/30\n",
      "1575/1575 [==============================] - 11s 6ms/step - loss: 0.5181 - accuracy: 0.7429 - val_loss: 0.5039 - val_accuracy: 0.7453\n",
      "Epoch 22/30\n",
      "1575/1575 [==============================] - 11s 6ms/step - loss: 0.5143 - accuracy: 0.7458 - val_loss: 0.4929 - val_accuracy: 0.7539\n",
      "Epoch 23/30\n",
      "1575/1575 [==============================] - 10s 6ms/step - loss: 0.5158 - accuracy: 0.7454 - val_loss: 0.4969 - val_accuracy: 0.7547\n",
      "Epoch 24/30\n",
      "1575/1575 [==============================] - 11s 6ms/step - loss: 0.5187 - accuracy: 0.7436 - val_loss: 0.4895 - val_accuracy: 0.7518\n",
      "Epoch 25/30\n",
      "1575/1575 [==============================] - 10s 6ms/step - loss: 0.5152 - accuracy: 0.7454 - val_loss: 0.4943 - val_accuracy: 0.7568\n",
      "Epoch 26/30\n",
      "1575/1575 [==============================] - 10s 6ms/step - loss: 0.5149 - accuracy: 0.7446 - val_loss: 0.4975 - val_accuracy: 0.7458\n",
      "Epoch 27/30\n",
      "1575/1575 [==============================] - 11s 6ms/step - loss: 0.5145 - accuracy: 0.7456 - val_loss: 0.4967 - val_accuracy: 0.7536\n",
      "Epoch 28/30\n",
      "1575/1575 [==============================] - 12s 6ms/step - loss: 0.5149 - accuracy: 0.7453 - val_loss: 0.4979 - val_accuracy: 0.7497\n",
      "Epoch 29/30\n",
      "1575/1575 [==============================] - 10s 6ms/step - loss: 0.5146 - accuracy: 0.7455 - val_loss: 0.5042 - val_accuracy: 0.7458\n",
      "Epoch 30/30\n",
      "1575/1575 [==============================] - 11s 6ms/step - loss: 0.5165 - accuracy: 0.7433 - val_loss: 0.5036 - val_accuracy: 0.7461\n"
     ]
    }
   ],
   "source": [
    "\"\"\" Constructing Model with Pre-Trained Word Embedding \"\"\"\n",
    "\n",
    "# Get description of word embedding\n",
    "vocab_size, embedding_dim = index_to_embedding_array.shape\n",
    "print(\"Vocab Size: \", vocab_size)\n",
    "print(\"Embedding Dim: \", embedding_dim)\n",
    "\n",
    "# Construct embedding layer and use embedding vectors to set weights.\n",
    "# Set trainable=False to freeze the weights to prevent weight to be \n",
    "# changed during training.\n",
    "embedding_layer = tf.keras.layers.Embedding(input_dim=vocab_size, \n",
    "                                            output_dim=embedding_dim,\n",
    "                                            weights=[index_to_embedding_array],\n",
    "                                            trainable=False)\n",
    "\n",
    "# Construct model using the pre-trained embedding layer.\n",
    "# This model learns by changing network weights in Dense layer.\n",
    "# (no trainable weights in GlobalAveragePooling layer)\n",
    "model_glove = tf.keras.Sequential([\n",
    "    embedding_layer,\n",
    "    tf.keras.layers.GlobalAveragePooling1D(),\n",
    "    tf.keras.layers.Dense(25, activation='relu'),\n",
    "    tf.keras.layers.Dense(2, activation='softmax')\n",
    "])\n",
    "print(model_glove.summary())\n",
    "\n",
    "# Compile model\n",
    "model_glove.compile(loss='categorical_crossentropy',\n",
    "                    optimizer=tf.keras.optimizers.Adam(1e-2),\n",
    "                    metrics=['accuracy'])\n",
    "\n",
    "# Train model\n",
    "history = model_glove.fit(train_ds_glove, epochs=30,\n",
    "                          validation_data=traindev_ds_glove, \n",
    "                          validation_steps=30,\n",
    "                          verbose=1)"
   ]
  },
  {
   "cell_type": "code",
   "execution_count": 23,
   "metadata": {
    "ExecuteTime": {
     "end_time": "2021-04-23T15:46:31.127100Z",
     "start_time": "2021-04-23T15:46:29.307655Z"
    },
    "colab": {
     "base_uri": "https://localhost:8080/",
     "height": 573
    },
    "executionInfo": {
     "elapsed": 1692,
     "status": "ok",
     "timestamp": 1619109358488,
     "user": {
      "displayName": "YU YE",
      "photoUrl": "",
      "userId": "17099835141103746005"
     },
     "user_tz": -480
    },
    "id": "X4Ty8n4kcBeM",
    "outputId": "3fb6e190-4b6f-460d-d37b-8f1196c17442"
   },
   "outputs": [
    {
     "data": {
      "image/png": "[encoded data removed]",
      "text/plain": [
       "<Figure size 432x288 with 1 Axes>"
      ]
     },
     "metadata": {
      "needs_background": "light"
     },
     "output_type": "display_data"
    },
    {
     "data": {
      "image/png": "[encoded data removed]",
      "text/plain": [
       "<Figure size 432x288 with 1 Axes>"
      ]
     },
     "metadata": {
      "needs_background": "light"
     },
     "output_type": "display_data"
    }
   ],
   "source": [
    "\n",
    "##### Loss #####\n",
    "# Get training results\n",
    "history_dict = history.history\n",
    "train_loss = history_dict['loss']\n",
    "test_loss = history_dict['val_loss']\n",
    "\n",
    "# Plot training results\n",
    "plt.plot(train_loss, label='Train Loss')\n",
    "plt.plot(test_loss, label='Test Loss')\n",
    "\n",
    "# Show plot\n",
    "plt.title('Model Training Results (Loss)')\n",
    "plt.xlabel('Epochs')\n",
    "plt.ylabel('Loss')\n",
    "plt.legend(loc=\"lower right\")\n",
    "plt.grid()\n",
    "plt.show()\n",
    "\n",
    "##### Accuracy #####\n",
    "# Get training results\n",
    "history_dict = history.history\n",
    "train_acc = history_dict['accuracy']\n",
    "test_acc = history_dict['val_accuracy']\n",
    "\n",
    "# Plot training results\n",
    "plt.plot(train_acc, label='Train Acc.')\n",
    "plt.plot(test_acc, label='Test Acc.')\n",
    "\n",
    "# Show plot\n",
    "plt.title('Model Training Results (Acc.)')\n",
    "plt.xlabel('Epochs')\n",
    "plt.ylabel('Acc')\n",
    "plt.legend(loc=\"lower right\")\n",
    "plt.grid()"
   ]
  },
  {
   "cell_type": "code",
   "execution_count": 28,
   "metadata": {
    "ExecuteTime": {
     "end_time": "2021-04-23T15:56:13.617450Z",
     "start_time": "2021-04-23T15:56:13.496366Z"
    },
    "colab": {
     "base_uri": "https://localhost:8080/"
    },
    "executionInfo": {
     "elapsed": 994,
     "status": "ok",
     "timestamp": 1619109421816,
     "user": {
      "displayName": "YU YE",
      "photoUrl": "",
      "userId": "17099835141103746005"
     },
     "user_tz": -480
    },
    "id": "sqSAGuz1cRM4",
    "outputId": "1d5c5908-4068-4c0b-baa8-11ccbe6ee89d"
   },
   "outputs": [
    {
     "name": "stdout",
     "output_type": "stream",
     "text": [
      "Sentence: \n",
      " mazing value for the price: I have a small home-based business - didn't want to pop for a laser printer, but needed something that created quality prints for major presentations. This machine is AWESOME. Fast copies, fast printing, easy to set up and operate (I barely needed the directions).Love it. \n",
      "\n",
      "Corresponding ids: \n",
      " [400001, 1158, 10, 0, 626, 45, 41, 33, 7, 357, 163, 11, 243, 258, 11, 73330, 57, 2159, 303, 4, 2564, 10, 7, 8013, 13568, 1, 34, 911, 645, 12, 955, 1506, 10470, 10, 224, 14448, 2, 37, 2358, 14, 13602, 2, 1605, 3638, 1, 1605, 7078, 1, 1673, 4, 208, 60, 5, 3189, 23, 41, 4236, 911, 0, 6975, 24, 2, 835, 20, 2] \n",
      "\n",
      "Corresponding predictions: \n",
      " [0.000000e+00 7.496192e-18] \n",
      "\n",
      "Final prediction: \n",
      " 1 \n",
      "\n",
      "Actual categorization: \n",
      " 2\n"
     ]
    }
   ],
   "source": [
    "\n",
    "# prediction example\n",
    "from scipy import stats\n",
    "no = 10\n",
    "example = X_train[no]\n",
    "corresponding_output = y_train[no]\n",
    "\n",
    "print(\"Sentence: \\n\",\n",
    "      example, \"\\n\")\n",
    "ids = sentence_to_word_ids(example, word_to_index_dict)[0]\n",
    "print(\"Corresponding ids: \\n\",\n",
    "      ids, \"\\n\")\n",
    "predictions = np.amin(model_glove.predict(ids), axis=0)\n",
    "print(\"Corresponding predictions: \\n\",\n",
    "      predictions, \"\\n\")\n",
    "print(\"Final prediction: \\n\", \n",
    "      le_y.inverse_transform(stats.mode(predictions)[0].astype(int))[0], \"\\n\")\n",
    "print(\"Actual categorization: \\n\", \n",
    "     list(le_y.classes_)[oe_y.inverse_transform([corresponding_output])[0][0]])"
   ]
  },
  {
   "cell_type": "code",
   "execution_count": null,
   "metadata": {},
   "outputs": [],
   "source": []
  }
 ],
 "metadata": {
  "colab": {
   "collapsed_sections": [],
   "name": "sentiment_NN.ipynb",
   "provenance": []
  },
  "kernelspec": {
   "display_name": "Python 3",
   "language": "python",
   "name": "python3"
  },
  "language_info": {
   "codemirror_mode": {
    "name": "ipython",
    "version": 3
   },
   "file_extension": ".py",
   "mimetype": "text/x-python",
   "name": "python",
   "nbconvert_exporter": "python",
   "pygments_lexer": "ipython3",
   "version": "3.8.5"
  },
  "toc": {
   "base_numbering": 1,
   "nav_menu": {},
   "number_sections": true,
   "sideBar": true,
   "skip_h1_title": false,
   "title_cell": "Table of Contents",
   "title_sidebar": "Contents",
   "toc_cell": false,
   "toc_position": {},
   "toc_section_display": true,
   "toc_window_display": false
  }
 },
 "nbformat": 4,
 "nbformat_minor": 1
}
