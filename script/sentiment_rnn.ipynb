{
 "cells": [
  {
   "cell_type": "code",
   "execution_count": 41,
   "metadata": {
    "ExecuteTime": {
     "end_time": "2021-04-23T15:26:54.743958Z",
     "start_time": "2021-04-23T15:26:45.527052Z"
    },
    "colab": {
     "base_uri": "https://localhost:8080/",
     "height": 1000
    },
    "executionInfo": {
     "elapsed": 22476,
     "status": "ok",
     "timestamp": 1619095767967,
     "user": {
      "displayName": "YU YE",
      "photoUrl": "",
      "userId": "17099835141103746005"
     },
     "user_tz": -480
    },
    "id": "xZjIYkLLi27C",
    "outputId": "f7d5a841-d4ca-4e29-abc3-594d9a6c5754"
   },
   "outputs": [
    {
     "name": "stdout",
     "output_type": "stream",
     "text": [
      "Requirement already satisfied: wordninja==2.0.0 in /Users/zhuzeyu/opt/anaconda3/lib/python3.8/site-packages (2.0.0)\n",
      "Requirement already satisfied: scikit-learn==0.22.2 in /Users/zhuzeyu/opt/anaconda3/lib/python3.8/site-packages (0.22.2)\n",
      "Requirement already satisfied: joblib>=0.11 in /Users/zhuzeyu/opt/anaconda3/lib/python3.8/site-packages (from scikit-learn==0.22.2) (0.17.0)\n",
      "Requirement already satisfied: scipy>=0.17.0 in /Users/zhuzeyu/opt/anaconda3/lib/python3.8/site-packages (from scikit-learn==0.22.2) (1.5.2)\n",
      "Requirement already satisfied: numpy>=1.11.0 in /Users/zhuzeyu/opt/anaconda3/lib/python3.8/site-packages (from scikit-learn==0.22.2) (1.19.5)\n",
      "Requirement already satisfied: lime==0.2.0 in /Users/zhuzeyu/opt/anaconda3/lib/python3.8/site-packages (0.2.0.0)\n",
      "Requirement already satisfied: scikit-learn>=0.18 in /Users/zhuzeyu/opt/anaconda3/lib/python3.8/site-packages (from lime==0.2.0) (0.22.2)\n",
      "Requirement already satisfied: pillow==5.4.1 in /Users/zhuzeyu/opt/anaconda3/lib/python3.8/site-packages (from lime==0.2.0) (5.4.1)\n",
      "Requirement already satisfied: scipy in /Users/zhuzeyu/opt/anaconda3/lib/python3.8/site-packages (from lime==0.2.0) (1.5.2)\n",
      "Requirement already satisfied: tqdm in /Users/zhuzeyu/opt/anaconda3/lib/python3.8/site-packages (from lime==0.2.0) (4.50.2)\n",
      "Requirement already satisfied: scikit-image>=0.12 in /Users/zhuzeyu/opt/anaconda3/lib/python3.8/site-packages (from lime==0.2.0) (0.17.2)\n",
      "Requirement already satisfied: numpy in /Users/zhuzeyu/opt/anaconda3/lib/python3.8/site-packages (from lime==0.2.0) (1.19.5)\n",
      "Requirement already satisfied: matplotlib in /Users/zhuzeyu/opt/anaconda3/lib/python3.8/site-packages (from lime==0.2.0) (3.3.2)\n",
      "Requirement already satisfied: joblib>=0.11 in /Users/zhuzeyu/opt/anaconda3/lib/python3.8/site-packages (from scikit-learn>=0.18->lime==0.2.0) (0.17.0)\n",
      "Requirement already satisfied: networkx>=2.0 in /Users/zhuzeyu/opt/anaconda3/lib/python3.8/site-packages (from scikit-image>=0.12->lime==0.2.0) (2.5)\n",
      "Requirement already satisfied: imageio>=2.3.0 in /Users/zhuzeyu/opt/anaconda3/lib/python3.8/site-packages (from scikit-image>=0.12->lime==0.2.0) (2.9.0)\n",
      "Requirement already satisfied: tifffile>=2019.7.26 in /Users/zhuzeyu/opt/anaconda3/lib/python3.8/site-packages (from scikit-image>=0.12->lime==0.2.0) (2020.10.1)\n",
      "Requirement already satisfied: PyWavelets>=1.1.1 in /Users/zhuzeyu/opt/anaconda3/lib/python3.8/site-packages (from scikit-image>=0.12->lime==0.2.0) (1.1.1)\n",
      "Requirement already satisfied: pyparsing!=2.0.4,!=2.1.2,!=2.1.6,>=2.0.3 in /Users/zhuzeyu/opt/anaconda3/lib/python3.8/site-packages (from matplotlib->lime==0.2.0) (2.4.7)\n",
      "Requirement already satisfied: cycler>=0.10 in /Users/zhuzeyu/opt/anaconda3/lib/python3.8/site-packages (from matplotlib->lime==0.2.0) (0.10.0)\n",
      "Requirement already satisfied: python-dateutil>=2.1 in /Users/zhuzeyu/opt/anaconda3/lib/python3.8/site-packages (from matplotlib->lime==0.2.0) (2.8.1)\n",
      "Requirement already satisfied: kiwisolver>=1.0.1 in /Users/zhuzeyu/opt/anaconda3/lib/python3.8/site-packages (from matplotlib->lime==0.2.0) (1.3.0)\n",
      "Requirement already satisfied: certifi>=2020.06.20 in /Users/zhuzeyu/opt/anaconda3/lib/python3.8/site-packages (from matplotlib->lime==0.2.0) (2020.6.20)\n",
      "Requirement already satisfied: decorator>=4.3.0 in /Users/zhuzeyu/opt/anaconda3/lib/python3.8/site-packages (from networkx>=2.0->scikit-image>=0.12->lime==0.2.0) (4.4.2)\n",
      "Requirement already satisfied: six in /Users/zhuzeyu/opt/anaconda3/lib/python3.8/site-packages (from cycler>=0.10->matplotlib->lime==0.2.0) (1.15.0)\n",
      "Requirement already satisfied: tensorflow in /Users/zhuzeyu/opt/anaconda3/lib/python3.8/site-packages (2.4.1)\n",
      "Requirement already satisfied: numpy~=1.19.2 in /Users/zhuzeyu/opt/anaconda3/lib/python3.8/site-packages (from tensorflow) (1.19.5)\n",
      "Requirement already satisfied: tensorflow-estimator<2.5.0,>=2.4.0 in /Users/zhuzeyu/opt/anaconda3/lib/python3.8/site-packages (from tensorflow) (2.4.0)\n",
      "Requirement already satisfied: typing-extensions~=3.7.4 in /Users/zhuzeyu/opt/anaconda3/lib/python3.8/site-packages (from tensorflow) (3.7.4.3)\n",
      "Requirement already satisfied: wrapt~=1.12.1 in /Users/zhuzeyu/opt/anaconda3/lib/python3.8/site-packages (from tensorflow) (1.12.1)\n",
      "Requirement already satisfied: keras-preprocessing~=1.1.2 in /Users/zhuzeyu/opt/anaconda3/lib/python3.8/site-packages (from tensorflow) (1.1.2)\n",
      "Requirement already satisfied: six~=1.15.0 in /Users/zhuzeyu/opt/anaconda3/lib/python3.8/site-packages (from tensorflow) (1.15.0)\n",
      "Requirement already satisfied: grpcio~=1.32.0 in /Users/zhuzeyu/opt/anaconda3/lib/python3.8/site-packages (from tensorflow) (1.32.0)\n",
      "Requirement already satisfied: opt-einsum~=3.3.0 in /Users/zhuzeyu/opt/anaconda3/lib/python3.8/site-packages (from tensorflow) (3.3.0)\n",
      "Requirement already satisfied: flatbuffers~=1.12.0 in /Users/zhuzeyu/opt/anaconda3/lib/python3.8/site-packages (from tensorflow) (1.12)\n",
      "Requirement already satisfied: termcolor~=1.1.0 in /Users/zhuzeyu/opt/anaconda3/lib/python3.8/site-packages (from tensorflow) (1.1.0)\n",
      "Requirement already satisfied: protobuf>=3.9.2 in /Users/zhuzeyu/opt/anaconda3/lib/python3.8/site-packages (from tensorflow) (3.15.6)\n",
      "Requirement already satisfied: gast==0.3.3 in /Users/zhuzeyu/opt/anaconda3/lib/python3.8/site-packages (from tensorflow) (0.3.3)\n",
      "Requirement already satisfied: tensorboard~=2.4 in /Users/zhuzeyu/opt/anaconda3/lib/python3.8/site-packages (from tensorflow) (2.4.1)\n",
      "Requirement already satisfied: wheel~=0.35 in /Users/zhuzeyu/opt/anaconda3/lib/python3.8/site-packages (from tensorflow) (0.35.1)\n",
      "Requirement already satisfied: astunparse~=1.6.3 in /Users/zhuzeyu/opt/anaconda3/lib/python3.8/site-packages (from tensorflow) (1.6.3)\n",
      "Requirement already satisfied: absl-py~=0.10 in /Users/zhuzeyu/opt/anaconda3/lib/python3.8/site-packages (from tensorflow) (0.12.0)\n",
      "Requirement already satisfied: google-pasta~=0.2 in /Users/zhuzeyu/opt/anaconda3/lib/python3.8/site-packages (from tensorflow) (0.2.0)\n",
      "Requirement already satisfied: h5py~=2.10.0 in /Users/zhuzeyu/opt/anaconda3/lib/python3.8/site-packages (from tensorflow) (2.10.0)\n",
      "Requirement already satisfied: setuptools>=41.0.0 in /Users/zhuzeyu/opt/anaconda3/lib/python3.8/site-packages (from tensorboard~=2.4->tensorflow) (50.3.1.post20201107)\n",
      "Requirement already satisfied: werkzeug>=0.11.15 in /Users/zhuzeyu/opt/anaconda3/lib/python3.8/site-packages (from tensorboard~=2.4->tensorflow) (1.0.1)\n",
      "Requirement already satisfied: tensorboard-plugin-wit>=1.6.0 in /Users/zhuzeyu/opt/anaconda3/lib/python3.8/site-packages (from tensorboard~=2.4->tensorflow) (1.8.0)\n",
      "Requirement already satisfied: markdown>=2.6.8 in /Users/zhuzeyu/opt/anaconda3/lib/python3.8/site-packages (from tensorboard~=2.4->tensorflow) (3.3.4)\n",
      "Requirement already satisfied: google-auth<2,>=1.6.3 in /Users/zhuzeyu/opt/anaconda3/lib/python3.8/site-packages (from tensorboard~=2.4->tensorflow) (1.28.0)\n",
      "Requirement already satisfied: requests<3,>=2.21.0 in /Users/zhuzeyu/opt/anaconda3/lib/python3.8/site-packages (from tensorboard~=2.4->tensorflow) (2.24.0)\n",
      "Requirement already satisfied: google-auth-oauthlib<0.5,>=0.4.1 in /Users/zhuzeyu/opt/anaconda3/lib/python3.8/site-packages (from tensorboard~=2.4->tensorflow) (0.4.3)\n",
      "Requirement already satisfied: pyasn1-modules>=0.2.1 in /Users/zhuzeyu/opt/anaconda3/lib/python3.8/site-packages (from google-auth<2,>=1.6.3->tensorboard~=2.4->tensorflow) (0.2.8)\n",
      "Requirement already satisfied: cachetools<5.0,>=2.0.0 in /Users/zhuzeyu/opt/anaconda3/lib/python3.8/site-packages (from google-auth<2,>=1.6.3->tensorboard~=2.4->tensorflow) (4.2.1)\n",
      "Requirement already satisfied: rsa<5,>=3.1.4; python_version >= \"3.6\" in /Users/zhuzeyu/opt/anaconda3/lib/python3.8/site-packages (from google-auth<2,>=1.6.3->tensorboard~=2.4->tensorflow) (4.7.2)\n",
      "Requirement already satisfied: certifi>=2017.4.17 in /Users/zhuzeyu/opt/anaconda3/lib/python3.8/site-packages (from requests<3,>=2.21.0->tensorboard~=2.4->tensorflow) (2020.6.20)\n",
      "Requirement already satisfied: idna<3,>=2.5 in /Users/zhuzeyu/opt/anaconda3/lib/python3.8/site-packages (from requests<3,>=2.21.0->tensorboard~=2.4->tensorflow) (2.10)\n",
      "Requirement already satisfied: urllib3!=1.25.0,!=1.25.1,<1.26,>=1.21.1 in /Users/zhuzeyu/opt/anaconda3/lib/python3.8/site-packages (from requests<3,>=2.21.0->tensorboard~=2.4->tensorflow) (1.25.11)\n"
     ]
    },
    {
     "name": "stdout",
     "output_type": "stream",
     "text": [
      "Requirement already satisfied: chardet<4,>=3.0.2 in /Users/zhuzeyu/opt/anaconda3/lib/python3.8/site-packages (from requests<3,>=2.21.0->tensorboard~=2.4->tensorflow) (3.0.4)\r\n",
      "Requirement already satisfied: requests-oauthlib>=0.7.0 in /Users/zhuzeyu/opt/anaconda3/lib/python3.8/site-packages (from google-auth-oauthlib<0.5,>=0.4.1->tensorboard~=2.4->tensorflow) (1.3.0)\r\n",
      "Requirement already satisfied: pyasn1<0.5.0,>=0.4.6 in /Users/zhuzeyu/opt/anaconda3/lib/python3.8/site-packages (from pyasn1-modules>=0.2.1->google-auth<2,>=1.6.3->tensorboard~=2.4->tensorflow) (0.4.8)\r\n",
      "Requirement already satisfied: oauthlib>=3.0.0 in /Users/zhuzeyu/opt/anaconda3/lib/python3.8/site-packages (from requests-oauthlib>=0.7.0->google-auth-oauthlib<0.5,>=0.4.1->tensorboard~=2.4->tensorflow) (3.1.0)\r\n"
     ]
    }
   ],
   "source": [
    "\n",
    "!pip3 install wordninja==2.0.0             # for splitting joined words\n",
    "!pip3 install scikit-learn==0.22.2         # for one-hot encoding\n",
    "!pip3 install lime==0.2.0                  # for explaining model predictions\n",
    "!pip3 install tensorflow"
   ]
  },
  {
   "cell_type": "code",
   "execution_count": 42,
   "metadata": {
    "ExecuteTime": {
     "end_time": "2021-04-23T15:26:54.784163Z",
     "start_time": "2021-04-23T15:26:54.749617Z"
    },
    "colab": {
     "base_uri": "https://localhost:8080/"
    },
    "executionInfo": {
     "elapsed": 3505,
     "status": "ok",
     "timestamp": 1619095799863,
     "user": {
      "displayName": "YU YE",
      "photoUrl": "",
      "userId": "17099835141103746005"
     },
     "user_tz": -480
    },
    "id": "lP0Pd3rEjT8b",
    "outputId": "1a098c98-d0e6-4349-d04f-1ae5d0ad241a"
   },
   "outputs": [
    {
     "name": "stdout",
     "output_type": "stream",
     "text": [
      "Is GPU available:  False\n",
      "GPU(s) found: \n",
      "[]\n"
     ]
    }
   ],
   "source": [
    "\n",
    "import numpy as np\n",
    "import pandas as pd\n",
    "import os\n",
    "import matplotlib.pyplot as plt\n",
    "from lime.lime_text import LimeTextExplainer\n",
    "import tensorflow as tf\n",
    "# Check if any GPU is detected\n",
    "print(\"Is GPU available: \", tf.test.is_gpu_available())\n",
    "print(\"GPU(s) found: \")\n",
    "print(tf.config.experimental.list_physical_devices('GPU'))"
   ]
  },
  {
   "cell_type": "markdown",
   "metadata": {
    "id": "8F8A4pt2uU5H"
   },
   "source": []
  },
  {
   "cell_type": "code",
   "execution_count": 43,
   "metadata": {
    "ExecuteTime": {
     "end_time": "2021-04-23T15:26:56.163089Z",
     "start_time": "2021-04-23T15:26:54.786997Z"
    },
    "executionInfo": {
     "elapsed": 27025,
     "status": "ok",
     "timestamp": 1619095830199,
     "user": {
      "displayName": "YU YE",
      "photoUrl": "",
      "userId": "17099835141103746005"
     },
     "user_tz": -480
    },
    "id": "XxpNu193ja3L"
   },
   "outputs": [
    {
     "name": "stdout",
     "output_type": "stream",
     "text": [
      "/Users/zhuzeyu/Desktop/COMP3359/Project/COMP__3359__GROUP8/data\n"
     ]
    }
   ],
   "source": [
    "data_path = os.getcwd().replace('script', 'data')\n",
    "print(data_path)\n",
    "data = pd.read_pickle(data_path + '/sentiment_data.pkl.zip')"
   ]
  },
  {
   "cell_type": "code",
   "execution_count": 44,
   "metadata": {
    "ExecuteTime": {
     "end_time": "2021-04-23T15:26:56.273814Z",
     "start_time": "2021-04-23T15:26:56.169226Z"
    },
    "colab": {
     "base_uri": "https://localhost:8080/",
     "height": 407
    },
    "executionInfo": {
     "elapsed": 931,
     "status": "ok",
     "timestamp": 1619080680278,
     "user": {
      "displayName": "YU YE",
      "photoUrl": "",
      "userId": "17099835141103746005"
     },
     "user_tz": -480
    },
    "id": "keqc3fFZumSw",
    "outputId": "417e8eeb-9a31-46fd-c388-e22e59566907"
   },
   "outputs": [
    {
     "data": {
      "text/html": [
       "<div>\n",
       "<style scoped>\n",
       "    .dataframe tbody tr th:only-of-type {\n",
       "        vertical-align: middle;\n",
       "    }\n",
       "\n",
       "    .dataframe tbody tr th {\n",
       "        vertical-align: top;\n",
       "    }\n",
       "\n",
       "    .dataframe thead th {\n",
       "        text-align: right;\n",
       "    }\n",
       "</style>\n",
       "<table border=\"1\" class=\"dataframe\">\n",
       "  <thead>\n",
       "    <tr style=\"text-align: right;\">\n",
       "      <th></th>\n",
       "      <th>label</th>\n",
       "      <th>text</th>\n",
       "    </tr>\n",
       "  </thead>\n",
       "  <tbody>\n",
       "    <tr>\n",
       "      <th>0</th>\n",
       "      <td>2</td>\n",
       "      <td>xcellent home help for parents: Volume 1 of Do...</td>\n",
       "    </tr>\n",
       "    <tr>\n",
       "      <th>1</th>\n",
       "      <td>1</td>\n",
       "      <td>tay far, far away.: I made it through about 6,...</td>\n",
       "    </tr>\n",
       "    <tr>\n",
       "      <th>2</th>\n",
       "      <td>1</td>\n",
       "      <td>ost Woods: Lost WoodsI didn't really understan...</td>\n",
       "    </tr>\n",
       "    <tr>\n",
       "      <th>3</th>\n",
       "      <td>1</td>\n",
       "      <td>enaissance -12, Women's brown suead shoes: Rec...</td>\n",
       "    </tr>\n",
       "    <tr>\n",
       "      <th>4</th>\n",
       "      <td>2</td>\n",
       "      <td>est Novel I've Read This Year: Intrigued by th...</td>\n",
       "    </tr>\n",
       "  </tbody>\n",
       "</table>\n",
       "</div>"
      ],
      "text/plain": [
       "  label                                               text\n",
       "0     2  xcellent home help for parents: Volume 1 of Do...\n",
       "1     1  tay far, far away.: I made it through about 6,...\n",
       "2     1  ost Woods: Lost WoodsI didn't really understan...\n",
       "3     1  enaissance -12, Women's brown suead shoes: Rec...\n",
       "4     2  est Novel I've Read This Year: Intrigued by th..."
      ]
     },
     "execution_count": 44,
     "metadata": {},
     "output_type": "execute_result"
    }
   ],
   "source": [
    "data[\"label\"] = data[\"label\"].str[9:10]\n",
    "data.head()"
   ]
  },
  {
   "cell_type": "code",
   "execution_count": 45,
   "metadata": {
    "ExecuteTime": {
     "end_time": "2021-04-23T15:26:56.284503Z",
     "start_time": "2021-04-23T15:26:56.277678Z"
    },
    "executionInfo": {
     "elapsed": 796,
     "status": "ok",
     "timestamp": 1619096096557,
     "user": {
      "displayName": "YU YE",
      "photoUrl": "",
      "userId": "17099835141103746005"
     },
     "user_tz": -480
    },
    "id": "PbaHqcGk0k_O"
   },
   "outputs": [
    {
     "data": {
      "text/plain": [
       "'/Users/zhuzeyu/Desktop/COMP3359/Project/COMP__3359__GROUP8/data/glove.6B.50d.txt'"
      ]
     },
     "execution_count": 45,
     "metadata": {},
     "output_type": "execute_result"
    }
   ],
   "source": [
    "glove_path = data_path + '/glove.6B.50d.txt'\n",
    "glove_path"
   ]
  },
  {
   "cell_type": "code",
   "execution_count": 46,
   "metadata": {
    "ExecuteTime": {
     "end_time": "2021-04-23T15:26:56.331351Z",
     "start_time": "2021-04-23T15:26:56.286071Z"
    }
   },
   "outputs": [],
   "source": [
    "data=data.sample(frac=0.1, replace=False, random_state=1).reset_index().drop(columns = [\"index\"])"
   ]
  },
  {
   "cell_type": "code",
   "execution_count": 47,
   "metadata": {
    "ExecuteTime": {
     "end_time": "2021-04-23T15:26:56.371246Z",
     "start_time": "2021-04-23T15:26:56.339090Z"
    },
    "executionInfo": {
     "elapsed": 775,
     "status": "ok",
     "timestamp": 1619097226822,
     "user": {
      "displayName": "YU YE",
      "photoUrl": "",
      "userId": "17099835141103746005"
     },
     "user_tz": -480
    },
    "id": "vEkHaENw451C"
   },
   "outputs": [],
   "source": [
    "from string import punctuation\n",
    "from collections import defaultdict\n",
    "import numpy as np\n",
    "\n",
    "def load_embedding_from_disks(glove_filename, with_indexes=True):\n",
    "    \"\"\"\n",
    "    Read a GloVe txt file. If `with_indexes=True`, we return a tuple of two dictionnaries\n",
    "    `(word_to_index_dict, index_to_embedding_array)`, otherwise we return only a direct \n",
    "    `word_to_embedding_dict` dictionnary mapping from a string to a numpy array.\n",
    "    \"\"\"\n",
    "    if with_indexes:\n",
    "        word_to_index_dict = dict()\n",
    "        index_to_embedding_array = []\n",
    "    else:\n",
    "        word_to_embedding_dict = dict()\n",
    "\n",
    "    \n",
    "    with open(glove_filename, 'r') as glove_file:\n",
    "        for (i, line) in enumerate(glove_file):\n",
    "            \n",
    "            split = line.split(' ')\n",
    "            \n",
    "            word = split[0]\n",
    "            \n",
    "            representation = split[1:]\n",
    "            representation = np.array(\n",
    "                [float(val) for val in representation]\n",
    "            )\n",
    "            \n",
    "            if with_indexes:\n",
    "                word_to_index_dict[word] = i\n",
    "                index_to_embedding_array.append(representation)\n",
    "            else:\n",
    "                word_to_embedding_dict[word] = representation\n",
    "\n",
    "    _WORD_NOT_FOUND = [0.0]* len(representation)  # Empty representation for unknown words.\n",
    "    if with_indexes:\n",
    "        _LAST_INDEX = i + 1\n",
    "        word_to_index_dict = defaultdict(lambda: _LAST_INDEX, word_to_index_dict)\n",
    "        index_to_embedding_array = np.array(index_to_embedding_array + [_WORD_NOT_FOUND])\n",
    "        return word_to_index_dict, index_to_embedding_array\n",
    "    else:\n",
    "        word_to_embedding_dict = defaultdict(lambda: _WORD_NOT_FOUND)\n",
    "        return word_to_embedding_dict\n",
    "\n",
    "\n",
    "def sentence_to_word_ids(sentence, word_to_index):\n",
    "    \"\"\"\n",
    "    Note: there might be a better way to split sentences for GloVe.\n",
    "    Please look at the documentation or open an issue to suggest a fix.\n",
    "    \"\"\"\n",
    "    # Separating punctuation from words:\n",
    "    for punctuation_character in punctuation:\n",
    "        sentence = sentence.replace(punctuation_character, \" {} \".format(punctuation_character))\n",
    "    # Removing double spaces and lowercasing:\n",
    "    sentence = sentence.replace(\"  \", \" \").replace(\"  \", \" \").lower().strip()\n",
    "    # Splitting on every space:\n",
    "    split_sentence = sentence.split(\" \")\n",
    "    # Converting to IDs:\n",
    "    ids = [word_to_index[w.strip()] for w in split_sentence]\n",
    "    return ids, split_sentence"
   ]
  },
  {
   "cell_type": "code",
   "execution_count": 48,
   "metadata": {
    "ExecuteTime": {
     "end_time": "2021-04-23T15:27:03.064055Z",
     "start_time": "2021-04-23T15:26:56.374801Z"
    },
    "colab": {
     "base_uri": "https://localhost:8080/"
    },
    "executionInfo": {
     "elapsed": 20708,
     "status": "ok",
     "timestamp": 1619096124361,
     "user": {
      "displayName": "YU YE",
      "photoUrl": "",
      "userId": "17099835141103746005"
     },
     "user_tz": -480
    },
    "id": "kx-b8Vdm5ASa",
    "outputId": "bf9460f2-3110-467e-c137-d5766a7847b2"
   },
   "outputs": [
    {
     "data": {
      "text/plain": [
       "(400002, 50)"
      ]
     },
     "execution_count": 48,
     "metadata": {},
     "output_type": "execute_result"
    }
   ],
   "source": [
    "word_to_index_dict, index_to_embedding_array = load_embedding_from_disks(glove_path, with_indexes=True)\n",
    "index_to_embedding_array.shape"
   ]
  },
  {
   "cell_type": "code",
   "execution_count": 49,
   "metadata": {
    "ExecuteTime": {
     "end_time": "2021-04-23T15:27:03.634924Z",
     "start_time": "2021-04-23T15:27:03.066170Z"
    },
    "executionInfo": {
     "elapsed": 808,
     "status": "ok",
     "timestamp": 1619096897734,
     "user": {
      "displayName": "YU YE",
      "photoUrl": "",
      "userId": "17099835141103746005"
     },
     "user_tz": -480
    },
    "id": "HSMXMtux5Im6"
   },
   "outputs": [],
   "source": [
    "from sklearn.model_selection import train_test_split\n",
    "from sklearn import preprocessing\n",
    "X = data['text'].to_numpy()\n",
    "y_beforelabel = data['label'].to_numpy()\n",
    "le_y = preprocessing.LabelEncoder()\n",
    "oe_y = preprocessing.OneHotEncoder()\n",
    "temp_y = le_y.fit_transform(y_beforelabel).reshape(-1, 1)\n",
    "X_train, X_traindev, temp_y_train, temp_y_traindev = train_test_split(X, temp_y, test_size=0.2, random_state=42)\n",
    "y_train = oe_y.fit_transform(temp_y_train).toarray()\n",
    "y_traindev = oe_y.fit_transform(temp_y_traindev).toarray()"
   ]
  },
  {
   "cell_type": "code",
   "execution_count": 50,
   "metadata": {
    "ExecuteTime": {
     "end_time": "2021-04-23T15:27:03.643901Z",
     "start_time": "2021-04-23T15:27:03.636792Z"
    },
    "colab": {
     "base_uri": "https://localhost:8080/"
    },
    "executionInfo": {
     "elapsed": 788,
     "status": "ok",
     "timestamp": 1619101765551,
     "user": {
      "displayName": "YU YE",
      "photoUrl": "",
      "userId": "17099835141103746005"
     },
     "user_tz": -480
    },
    "id": "VyczJ8gI9peI",
    "outputId": "eea01045-3fa1-4035-bc26-c1913a2241d0"
   },
   "outputs": [
    {
     "data": {
      "text/plain": [
       "20160"
      ]
     },
     "execution_count": 50,
     "metadata": {},
     "output_type": "execute_result"
    }
   ],
   "source": [
    "X_train.size"
   ]
  },
  {
   "cell_type": "code",
   "execution_count": 51,
   "metadata": {
    "ExecuteTime": {
     "end_time": "2021-04-23T15:27:03.653004Z",
     "start_time": "2021-04-23T15:27:03.646826Z"
    },
    "executionInfo": {
     "elapsed": 1659,
     "status": "ok",
     "timestamp": 1619105054175,
     "user": {
      "displayName": "YU YE",
      "photoUrl": "",
      "userId": "17099835141103746005"
     },
     "user_tz": -480
    },
    "id": "lW2otu8g5Z-f"
   },
   "outputs": [],
   "source": [
    "def make_complete(x):\n",
    "    #length = max(map(len, x))\n",
    "    length = 400\n",
    "    return np.array([xi+[0]*(length-len(xi)) for xi in x])"
   ]
  },
  {
   "cell_type": "code",
   "execution_count": 52,
   "metadata": {
    "ExecuteTime": {
     "end_time": "2021-04-23T15:27:05.897522Z",
     "start_time": "2021-04-23T15:27:03.656444Z"
    },
    "executionInfo": {
     "elapsed": 5532,
     "status": "ok",
     "timestamp": 1619105066972,
     "user": {
      "displayName": "YU YE",
      "photoUrl": "",
      "userId": "17099835141103746005"
     },
     "user_tz": -480
    },
    "id": "3QqGstY-tc85"
   },
   "outputs": [],
   "source": [
    "X_train_token = make_complete( sentence_to_word_ids(x, word_to_index_dict)[0] for x in X_train  )\n",
    "X_traindev_token = make_complete([ sentence_to_word_ids(x, word_to_index_dict)[0] for x in X_traindev ])"
   ]
  },
  {
   "cell_type": "code",
   "execution_count": 53,
   "metadata": {
    "ExecuteTime": {
     "end_time": "2021-04-23T15:27:05.908393Z",
     "start_time": "2021-04-23T15:27:05.899364Z"
    },
    "colab": {
     "base_uri": "https://localhost:8080/"
    },
    "executionInfo": {
     "elapsed": 1880,
     "status": "ok",
     "timestamp": 1619105079779,
     "user": {
      "displayName": "YU YE",
      "photoUrl": "",
      "userId": "17099835141103746005"
     },
     "user_tz": -480
    },
    "id": "RdB0riEWtchc",
    "outputId": "7d8088cb-0927-48ec-92d8-0799af71980f",
    "scrolled": true
   },
   "outputs": [
    {
     "data": {
      "text/plain": [
       "array([[   219,    841,     45, ...,      0,      0,      0],\n",
       "       [400001,  28457,   1999, ...,      0,      0,      0],\n",
       "       [ 21864,    242,   1946, ...,      0,      0,      0],\n",
       "       ...,\n",
       "       [400001,     45,      0, ...,      0,      0,      0],\n",
       "       [   269,     81,     40, ...,      0,      0,      0],\n",
       "       [184179,  54037,     45, ...,      0,      0,      0]])"
      ]
     },
     "execution_count": 53,
     "metadata": {},
     "output_type": "execute_result"
    }
   ],
   "source": [
    "X_train_token"
   ]
  },
  {
   "cell_type": "code",
   "execution_count": 60,
   "metadata": {
    "ExecuteTime": {
     "end_time": "2021-04-23T15:54:27.168012Z",
     "start_time": "2021-04-23T15:54:27.126172Z"
    },
    "executionInfo": {
     "elapsed": 1654,
     "status": "ok",
     "timestamp": 1619105085987,
     "user": {
      "displayName": "YU YE",
      "photoUrl": "",
      "userId": "17099835141103746005"
     },
     "user_tz": -480
    },
    "id": "hRFHjjaG5lUY"
   },
   "outputs": [],
   "source": [
    "BATCH_SIZE = 128\n",
    "# Training set data pipeline\n",
    "train_ds_glove = tf.data.Dataset.from_tensor_slices((X_train_token, y_train))   \n",
    "train_ds_glove = train_ds_glove.shuffle(buffer_size=len(X_train_token))                \n",
    "train_ds_glove = train_ds_glove.batch(batch_size=BATCH_SIZE)                     \n",
    "# Test set data pipeline\n",
    "traindev_ds_glove = tf.data.Dataset.from_tensor_slices((X_traindev_token, y_traindev))\n",
    "traindev_ds_glove = traindev_ds_glove.batch(batch_size=BATCH_SIZE)"
   ]
  },
  {
   "cell_type": "code",
   "execution_count": 61,
   "metadata": {
    "ExecuteTime": {
     "end_time": "2021-04-24T00:35:54.733112Z",
     "start_time": "2021-04-23T15:54:27.303295Z"
    },
    "colab": {
     "base_uri": "https://localhost:8080/"
    },
    "executionInfo": {
     "elapsed": 55703,
     "status": "ok",
     "timestamp": 1619105146255,
     "user": {
      "displayName": "YU YE",
      "photoUrl": "",
      "userId": "17099835141103746005"
     },
     "user_tz": -480
    },
    "id": "OGeKzESG6bSj",
    "outputId": "45bff850-4a52-433e-ae65-7b1b8d640a9c"
   },
   "outputs": [
    {
     "name": "stdout",
     "output_type": "stream",
     "text": [
      "Epoch 1/10\n",
      "158/158 [==============================] - 132s 777ms/step - loss: 0.6917 - accuracy: 0.5418 - val_loss: 0.6525 - val_accuracy: 0.6581\n",
      "Epoch 2/10\n",
      "158/158 [==============================] - 218s 1s/step - loss: 0.5648 - accuracy: 0.7445 - val_loss: 0.4176 - val_accuracy: 0.8365\n",
      "Epoch 3/10\n",
      "158/158 [==============================] - 4271s 27s/step - loss: 0.3537 - accuracy: 0.8674 - val_loss: 0.3357 - val_accuracy: 0.8648\n",
      "Epoch 4/10\n",
      "158/158 [==============================] - 6013s 38s/step - loss: 0.2434 - accuracy: 0.9133 - val_loss: 0.3132 - val_accuracy: 0.8721\n",
      "Epoch 5/10\n",
      "158/158 [==============================] - 5799s 37s/step - loss: 0.1930 - accuracy: 0.9312 - val_loss: 0.3367 - val_accuracy: 0.8716\n",
      "Epoch 6/10\n",
      "158/158 [==============================] - 3793s 24s/step - loss: 0.1564 - accuracy: 0.9447 - val_loss: 0.3166 - val_accuracy: 0.8711\n",
      "Epoch 7/10\n",
      "158/158 [==============================] - 5851s 24s/step - loss: 0.1257 - accuracy: 0.9611 - val_loss: 0.3734 - val_accuracy: 0.8682\n",
      "Epoch 8/10\n",
      "158/158 [==============================] - 4878s 31s/step - loss: 0.0943 - accuracy: 0.9727 - val_loss: 0.3973 - val_accuracy: 0.8672\n",
      "Epoch 9/10\n",
      "158/158 [==============================] - 163s 1s/step - loss: 0.0735 - accuracy: 0.9804 - val_loss: 0.3831 - val_accuracy: 0.8589\n",
      "Epoch 10/10\n",
      "158/158 [==============================] - 167s 1s/step - loss: 0.0614 - accuracy: 0.9839 - val_loss: 0.4091 - val_accuracy: 0.8549\n"
     ]
    }
   ],
   "source": [
    "\"\"\" Text Classification with RNN Model \"\"\"\n",
    "# Construct model\n",
    "\n",
    "vocab_size, embedding_dim = index_to_embedding_array.shape\n",
    "\n",
    "\n",
    "\n",
    "model_rnn = tf.keras.Sequential([\n",
    "    tf.keras.layers.Embedding(vocab_size, 64),\n",
    "    tf.keras.layers.Bidirectional(tf.keras.layers.LSTM(64)),\n",
    "    tf.keras.layers.Dense(64, activation='relu'),\n",
    "    tf.keras.layers.Dense(2, activation='softmax')\n",
    "])\n",
    "\n",
    "# Compile model\n",
    "model_rnn.compile(loss='binary_crossentropy',\n",
    "                  optimizer=tf.keras.optimizers.Adam(1e-4),\n",
    "                  metrics=['accuracy'])\n",
    "\n",
    "# Train model\n",
    "history = model_rnn.fit(train_ds_glove, epochs=10,\n",
    "                        validation_data=traindev_ds_glove, \n",
    "                        validation_steps=30)"
   ]
  },
  {
   "cell_type": "code",
   "execution_count": 62,
   "metadata": {
    "ExecuteTime": {
     "end_time": "2021-04-24T00:35:55.244951Z",
     "start_time": "2021-04-24T00:35:54.741213Z"
    },
    "colab": {
     "base_uri": "https://localhost:8080/",
     "height": 573
    },
    "executionInfo": {
     "elapsed": 1692,
     "status": "ok",
     "timestamp": 1619109358488,
     "user": {
      "displayName": "YU YE",
      "photoUrl": "",
      "userId": "17099835141103746005"
     },
     "user_tz": -480
    },
    "id": "X4Ty8n4kcBeM",
    "outputId": "3fb6e190-4b6f-460d-d37b-8f1196c17442"
   },
   "outputs": [
    {
     "data": {
      "image/png": "[encoded data removed]",
      "text/plain": [
       "<Figure size 432x288 with 1 Axes>"
      ]
     },
     "metadata": {
      "needs_background": "light"
     },
     "output_type": "display_data"
    },
    {
     "data": {
      "image/png": "[encoded data removed]",
      "text/plain": [
       "<Figure size 432x288 with 1 Axes>"
      ]
     },
     "metadata": {
      "needs_background": "light"
     },
     "output_type": "display_data"
    }
   ],
   "source": [
    "\n",
    "##### Loss #####\n",
    "# Get training results\n",
    "history_dict = history.history\n",
    "train_loss = history_dict['loss']\n",
    "test_loss = history_dict['val_loss']\n",
    "\n",
    "# Plot training results\n",
    "plt.plot(train_loss, label='Train Loss')\n",
    "plt.plot(test_loss, label='Test Loss')\n",
    "\n",
    "# Show plot\n",
    "plt.title('Model Training Results (Loss)')\n",
    "plt.xlabel('Epochs')\n",
    "plt.ylabel('Loss')\n",
    "plt.legend(loc=\"lower right\")\n",
    "plt.grid()\n",
    "plt.show()\n",
    "\n",
    "##### Accuracy #####\n",
    "# Get training results\n",
    "history_dict = history.history\n",
    "train_acc = history_dict['accuracy']\n",
    "test_acc = history_dict['val_accuracy']\n",
    "\n",
    "# Plot training results\n",
    "plt.plot(train_acc, label='Train Acc.')\n",
    "plt.plot(test_acc, label='Test Acc.')\n",
    "\n",
    "# Show plot\n",
    "plt.title('Model Training Results (Acc.)')\n",
    "plt.xlabel('Epochs')\n",
    "plt.ylabel('Acc')\n",
    "plt.legend(loc=\"lower right\")\n",
    "plt.grid()"
   ]
  },
  {
   "cell_type": "code",
   "execution_count": 63,
   "metadata": {
    "ExecuteTime": {
     "end_time": "2021-04-24T00:35:56.450584Z",
     "start_time": "2021-04-24T00:35:55.250144Z"
    },
    "colab": {
     "base_uri": "https://localhost:8080/"
    },
    "executionInfo": {
     "elapsed": 994,
     "status": "ok",
     "timestamp": 1619109421816,
     "user": {
      "displayName": "YU YE",
      "photoUrl": "",
      "userId": "17099835141103746005"
     },
     "user_tz": -480
    },
    "id": "sqSAGuz1cRM4",
    "outputId": "1d5c5908-4068-4c0b-baa8-11ccbe6ee89d"
   },
   "outputs": [
    {
     "name": "stdout",
     "output_type": "stream",
     "text": [
      "Sentence: \n",
      "  good try: I enjoyed this album, and I felt that the most enjoyable songs were \"These Good Old Dreams\" (a nice choice to open the CD with), \"Strength of a Woman\", \"Back In My Life Again\", and my favorite, \"Touch Me When We're Dancing\".I think the only low point of the album was \"Beechwood\", and I agree with the other reviewer that it should've been left off the album in favor of another song. I always cry at \"The Wedding Song\" (especially the last refrain) when I think about how unhappy her marriage was and how her life ended so tragically. We miss you, Karen! \n",
      "\n",
      "Corresponding ids: \n",
      " [219, 841, 45, 41, 3978, 37, 597, 1, 5, 41, 1349, 12, 0, 96, 19612, 1499, 35, 8, 158, 219, 167, 5559, 8, 23, 7, 3082, 1675, 4, 310, 0, 3537, 17, 24, 1, 8, 2174, 3, 7, 787, 8, 1, 8, 137, 6, 192, 214, 378, 8, 1, 5, 192, 2706, 1, 8, 3255, 285, 61, 53, 57, 1765, 5365, 8, 2, 41, 269, 0, 91, 653, 389, 3, 0, 597, 15, 8, 87706, 8, 1, 5, 41, 2137, 17, 0, 68, 15644, 12, 20, 189, 57, 37138, 51, 218, 138, 0, 597, 6, 2544, 3, 170, 813, 2, 41, 690, 7033, 22, 8, 0, 4318, 813, 8, 23, 858, 0, 76, 10114, 24, 61, 41, 269, 59, 197, 7894, 71, 1880, 15, 5, 197, 71, 214, 843, 100, 29323, 2, 53, 2214, 81, 1, 7124, 805] \n",
      "\n",
      "Corresponding predictions: \n",
      " [0.25660285 0.29205588] \n",
      "\n",
      "Final prediction: \n",
      " 1 \n",
      "\n",
      "Actual categorization: \n",
      " 2\n"
     ]
    }
   ],
   "source": [
    "\n",
    "# prediction example\n",
    "from scipy import stats\n",
    "example = X_train[0]\n",
    "corresponding_output = y_train[0]\n",
    "\n",
    "print(\"Sentence: \\n\",\n",
    "      example, \"\\n\")\n",
    "ids = sentence_to_word_ids(example, word_to_index_dict)[0]\n",
    "print(\"Corresponding ids: \\n\",\n",
    "      ids, \"\\n\")\n",
    "predictions = np.amin(model_rnn.predict(ids), axis=0)\n",
    "print(\"Corresponding predictions: \\n\",\n",
    "      predictions, \"\\n\")\n",
    "print(\"Final prediction: \\n\", \n",
    "      le_y.inverse_transform(stats.mode(predictions)[0].astype(int))[0], \"\\n\")\n",
    "print(\"Actual categorization: \\n\", \n",
    "     list(le_y.classes_)[oe_y.inverse_transform([corresponding_output])[0][0]])"
   ]
  },
  {
   "cell_type": "code",
   "execution_count": 64,
   "metadata": {
    "ExecuteTime": {
     "end_time": "2021-04-24T00:35:57.481680Z",
     "start_time": "2021-04-24T00:35:56.453419Z"
    }
   },
   "outputs": [],
   "source": [
    "model_rnn.save(data_path + \"model_rnn_sentiment.h5\")"
   ]
  },
  {
   "cell_type": "code",
   "execution_count": null,
   "metadata": {},
   "outputs": [],
   "source": []
  }
 ],
 "metadata": {
  "colab": {
   "collapsed_sections": [],
   "name": "sentiment_NN.ipynb",
   "provenance": []
  },
  "kernelspec": {
   "display_name": "Python 3",
   "language": "python",
   "name": "python3"
  },
  "language_info": {
   "codemirror_mode": {
    "name": "ipython",
    "version": 3
   },
   "file_extension": ".py",
   "mimetype": "text/x-python",
   "name": "python",
   "nbconvert_exporter": "python",
   "pygments_lexer": "ipython3",
   "version": "3.8.5"
  },
  "toc": {
   "base_numbering": 1,
   "nav_menu": {},
   "number_sections": true,
   "sideBar": true,
   "skip_h1_title": false,
   "title_cell": "Table of Contents",
   "title_sidebar": "Contents",
   "toc_cell": false,
   "toc_position": {},
   "toc_section_display": true,
   "toc_window_display": false
  }
 },
 "nbformat": 4,
 "nbformat_minor": 1
}
