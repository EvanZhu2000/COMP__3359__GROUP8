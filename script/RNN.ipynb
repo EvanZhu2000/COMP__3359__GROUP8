{
 "cells": [
  {
   "cell_type": "markdown",
   "metadata": {},
   "source": [
    "### Data Retrieving"
   ]
  },
  {
   "cell_type": "code",
   "execution_count": 63,
   "metadata": {
    "ExecuteTime": {
     "end_time": "2021-03-28T03:41:50.816833Z",
     "start_time": "2021-03-28T03:41:42.012211Z"
    },
    "scrolled": true
   },
   "outputs": [
    {
     "name": "stdout",
     "output_type": "stream",
     "text": [
      "Requirement already satisfied: wordninja==2.0.0 in /Users/zhuzeyu/opt/anaconda3/lib/python3.8/site-packages (2.0.0)\n",
      "Requirement already satisfied: scikit-learn==0.22.2 in /Users/zhuzeyu/opt/anaconda3/lib/python3.8/site-packages (0.22.2)\n",
      "Requirement already satisfied: joblib>=0.11 in /Users/zhuzeyu/opt/anaconda3/lib/python3.8/site-packages (from scikit-learn==0.22.2) (0.17.0)\n",
      "Requirement already satisfied: numpy>=1.11.0 in /Users/zhuzeyu/opt/anaconda3/lib/python3.8/site-packages (from scikit-learn==0.22.2) (1.19.5)\n",
      "Requirement already satisfied: scipy>=0.17.0 in /Users/zhuzeyu/opt/anaconda3/lib/python3.8/site-packages (from scikit-learn==0.22.2) (1.5.2)\n",
      "Requirement already satisfied: lime==0.2.0 in /Users/zhuzeyu/opt/anaconda3/lib/python3.8/site-packages (0.2.0.0)\n",
      "Requirement already satisfied: tqdm in /Users/zhuzeyu/opt/anaconda3/lib/python3.8/site-packages (from lime==0.2.0) (4.50.2)\n",
      "Requirement already satisfied: numpy in /Users/zhuzeyu/opt/anaconda3/lib/python3.8/site-packages (from lime==0.2.0) (1.19.5)\n",
      "Requirement already satisfied: matplotlib in /Users/zhuzeyu/opt/anaconda3/lib/python3.8/site-packages (from lime==0.2.0) (3.3.2)\n",
      "Requirement already satisfied: scikit-learn>=0.18 in /Users/zhuzeyu/opt/anaconda3/lib/python3.8/site-packages (from lime==0.2.0) (0.22.2)\n",
      "Requirement already satisfied: scipy in /Users/zhuzeyu/opt/anaconda3/lib/python3.8/site-packages (from lime==0.2.0) (1.5.2)\n",
      "Requirement already satisfied: pillow==5.4.1 in /Users/zhuzeyu/opt/anaconda3/lib/python3.8/site-packages (from lime==0.2.0) (5.4.1)\n",
      "Requirement already satisfied: scikit-image>=0.12 in /Users/zhuzeyu/opt/anaconda3/lib/python3.8/site-packages (from lime==0.2.0) (0.17.2)\n",
      "Requirement already satisfied: pyparsing!=2.0.4,!=2.1.2,!=2.1.6,>=2.0.3 in /Users/zhuzeyu/opt/anaconda3/lib/python3.8/site-packages (from matplotlib->lime==0.2.0) (2.4.7)\n",
      "Requirement already satisfied: python-dateutil>=2.1 in /Users/zhuzeyu/opt/anaconda3/lib/python3.8/site-packages (from matplotlib->lime==0.2.0) (2.8.1)\n",
      "Requirement already satisfied: certifi>=2020.06.20 in /Users/zhuzeyu/opt/anaconda3/lib/python3.8/site-packages (from matplotlib->lime==0.2.0) (2020.6.20)\n",
      "Requirement already satisfied: kiwisolver>=1.0.1 in /Users/zhuzeyu/opt/anaconda3/lib/python3.8/site-packages (from matplotlib->lime==0.2.0) (1.3.0)\n",
      "Requirement already satisfied: cycler>=0.10 in /Users/zhuzeyu/opt/anaconda3/lib/python3.8/site-packages (from matplotlib->lime==0.2.0) (0.10.0)\n",
      "Requirement already satisfied: joblib>=0.11 in /Users/zhuzeyu/opt/anaconda3/lib/python3.8/site-packages (from scikit-learn>=0.18->lime==0.2.0) (0.17.0)\n",
      "Requirement already satisfied: networkx>=2.0 in /Users/zhuzeyu/opt/anaconda3/lib/python3.8/site-packages (from scikit-image>=0.12->lime==0.2.0) (2.5)\n",
      "Requirement already satisfied: imageio>=2.3.0 in /Users/zhuzeyu/opt/anaconda3/lib/python3.8/site-packages (from scikit-image>=0.12->lime==0.2.0) (2.9.0)\n",
      "Requirement already satisfied: tifffile>=2019.7.26 in /Users/zhuzeyu/opt/anaconda3/lib/python3.8/site-packages (from scikit-image>=0.12->lime==0.2.0) (2020.10.1)\n",
      "Requirement already satisfied: PyWavelets>=1.1.1 in /Users/zhuzeyu/opt/anaconda3/lib/python3.8/site-packages (from scikit-image>=0.12->lime==0.2.0) (1.1.1)\n",
      "Requirement already satisfied: six>=1.5 in /Users/zhuzeyu/opt/anaconda3/lib/python3.8/site-packages (from python-dateutil>=2.1->matplotlib->lime==0.2.0) (1.15.0)\n",
      "Requirement already satisfied: decorator>=4.3.0 in /Users/zhuzeyu/opt/anaconda3/lib/python3.8/site-packages (from networkx>=2.0->scikit-image>=0.12->lime==0.2.0) (4.4.2)\n",
      "Requirement already satisfied: tensorflow in /Users/zhuzeyu/opt/anaconda3/lib/python3.8/site-packages (2.4.1)\n",
      "Requirement already satisfied: protobuf>=3.9.2 in /Users/zhuzeyu/opt/anaconda3/lib/python3.8/site-packages (from tensorflow) (3.15.6)\n",
      "Requirement already satisfied: termcolor~=1.1.0 in /Users/zhuzeyu/opt/anaconda3/lib/python3.8/site-packages (from tensorflow) (1.1.0)\n",
      "Requirement already satisfied: wrapt~=1.12.1 in /Users/zhuzeyu/opt/anaconda3/lib/python3.8/site-packages (from tensorflow) (1.12.1)\n",
      "Requirement already satisfied: opt-einsum~=3.3.0 in /Users/zhuzeyu/opt/anaconda3/lib/python3.8/site-packages (from tensorflow) (3.3.0)\n",
      "Requirement already satisfied: numpy~=1.19.2 in /Users/zhuzeyu/opt/anaconda3/lib/python3.8/site-packages (from tensorflow) (1.19.5)\n",
      "Requirement already satisfied: wheel~=0.35 in /Users/zhuzeyu/opt/anaconda3/lib/python3.8/site-packages (from tensorflow) (0.35.1)\n",
      "Requirement already satisfied: tensorflow-estimator<2.5.0,>=2.4.0 in /Users/zhuzeyu/opt/anaconda3/lib/python3.8/site-packages (from tensorflow) (2.4.0)\n",
      "Requirement already satisfied: absl-py~=0.10 in /Users/zhuzeyu/opt/anaconda3/lib/python3.8/site-packages (from tensorflow) (0.12.0)\n",
      "Requirement already satisfied: grpcio~=1.32.0 in /Users/zhuzeyu/opt/anaconda3/lib/python3.8/site-packages (from tensorflow) (1.32.0)\n",
      "Requirement already satisfied: typing-extensions~=3.7.4 in /Users/zhuzeyu/opt/anaconda3/lib/python3.8/site-packages (from tensorflow) (3.7.4.3)\n",
      "Requirement already satisfied: keras-preprocessing~=1.1.2 in /Users/zhuzeyu/opt/anaconda3/lib/python3.8/site-packages (from tensorflow) (1.1.2)\n",
      "Requirement already satisfied: tensorboard~=2.4 in /Users/zhuzeyu/opt/anaconda3/lib/python3.8/site-packages (from tensorflow) (2.4.1)\n",
      "Requirement already satisfied: google-pasta~=0.2 in /Users/zhuzeyu/opt/anaconda3/lib/python3.8/site-packages (from tensorflow) (0.2.0)\n",
      "Requirement already satisfied: astunparse~=1.6.3 in /Users/zhuzeyu/opt/anaconda3/lib/python3.8/site-packages (from tensorflow) (1.6.3)\n",
      "Requirement already satisfied: flatbuffers~=1.12.0 in /Users/zhuzeyu/opt/anaconda3/lib/python3.8/site-packages (from tensorflow) (1.12)\n",
      "Requirement already satisfied: gast==0.3.3 in /Users/zhuzeyu/opt/anaconda3/lib/python3.8/site-packages (from tensorflow) (0.3.3)\n",
      "Requirement already satisfied: h5py~=2.10.0 in /Users/zhuzeyu/opt/anaconda3/lib/python3.8/site-packages (from tensorflow) (2.10.0)\n",
      "Requirement already satisfied: six~=1.15.0 in /Users/zhuzeyu/opt/anaconda3/lib/python3.8/site-packages (from tensorflow) (1.15.0)\n",
      "Requirement already satisfied: requests<3,>=2.21.0 in /Users/zhuzeyu/opt/anaconda3/lib/python3.8/site-packages (from tensorboard~=2.4->tensorflow) (2.24.0)\n",
      "Requirement already satisfied: werkzeug>=0.11.15 in /Users/zhuzeyu/opt/anaconda3/lib/python3.8/site-packages (from tensorboard~=2.4->tensorflow) (1.0.1)\n",
      "Requirement already satisfied: google-auth<2,>=1.6.3 in /Users/zhuzeyu/opt/anaconda3/lib/python3.8/site-packages (from tensorboard~=2.4->tensorflow) (1.28.0)\n",
      "Requirement already satisfied: setuptools>=41.0.0 in /Users/zhuzeyu/opt/anaconda3/lib/python3.8/site-packages (from tensorboard~=2.4->tensorflow) (50.3.1.post20201107)\n",
      "Requirement already satisfied: google-auth-oauthlib<0.5,>=0.4.1 in /Users/zhuzeyu/opt/anaconda3/lib/python3.8/site-packages (from tensorboard~=2.4->tensorflow) (0.4.3)\n",
      "Requirement already satisfied: markdown>=2.6.8 in /Users/zhuzeyu/opt/anaconda3/lib/python3.8/site-packages (from tensorboard~=2.4->tensorflow) (3.3.4)\n",
      "Requirement already satisfied: tensorboard-plugin-wit>=1.6.0 in /Users/zhuzeyu/opt/anaconda3/lib/python3.8/site-packages (from tensorboard~=2.4->tensorflow) (1.8.0)\n",
      "Requirement already satisfied: chardet<4,>=3.0.2 in /Users/zhuzeyu/opt/anaconda3/lib/python3.8/site-packages (from requests<3,>=2.21.0->tensorboard~=2.4->tensorflow) (3.0.4)\n",
      "Requirement already satisfied: urllib3!=1.25.0,!=1.25.1,<1.26,>=1.21.1 in /Users/zhuzeyu/opt/anaconda3/lib/python3.8/site-packages (from requests<3,>=2.21.0->tensorboard~=2.4->tensorflow) (1.25.11)\n",
      "Requirement already satisfied: certifi>=2017.4.17 in /Users/zhuzeyu/opt/anaconda3/lib/python3.8/site-packages (from requests<3,>=2.21.0->tensorboard~=2.4->tensorflow) (2020.6.20)\n",
      "Requirement already satisfied: idna<3,>=2.5 in /Users/zhuzeyu/opt/anaconda3/lib/python3.8/site-packages (from requests<3,>=2.21.0->tensorboard~=2.4->tensorflow) (2.10)\n",
      "Requirement already satisfied: cachetools<5.0,>=2.0.0 in /Users/zhuzeyu/opt/anaconda3/lib/python3.8/site-packages (from google-auth<2,>=1.6.3->tensorboard~=2.4->tensorflow) (4.2.1)\n",
      "Requirement already satisfied: rsa<5,>=3.1.4; python_version >= \"3.6\" in /Users/zhuzeyu/opt/anaconda3/lib/python3.8/site-packages (from google-auth<2,>=1.6.3->tensorboard~=2.4->tensorflow) (4.7.2)\n",
      "Requirement already satisfied: pyasn1-modules>=0.2.1 in /Users/zhuzeyu/opt/anaconda3/lib/python3.8/site-packages (from google-auth<2,>=1.6.3->tensorboard~=2.4->tensorflow) (0.2.8)\n",
      "Requirement already satisfied: requests-oauthlib>=0.7.0 in /Users/zhuzeyu/opt/anaconda3/lib/python3.8/site-packages (from google-auth-oauthlib<0.5,>=0.4.1->tensorboard~=2.4->tensorflow) (1.3.0)\n",
      "Requirement already satisfied: pyasn1>=0.1.3 in /Users/zhuzeyu/opt/anaconda3/lib/python3.8/site-packages (from rsa<5,>=3.1.4; python_version >= \"3.6\"->google-auth<2,>=1.6.3->tensorboard~=2.4->tensorflow) (0.4.8)\n",
      "Requirement already satisfied: oauthlib>=3.0.0 in /Users/zhuzeyu/opt/anaconda3/lib/python3.8/site-packages (from requests-oauthlib>=0.7.0->google-auth-oauthlib<0.5,>=0.4.1->tensorboard~=2.4->tensorflow) (3.1.0)\n"
     ]
    }
   ],
   "source": [
    "!pip3 install wordninja==2.0.0             # for splitting joined words\n",
    "!pip3 install scikit-learn==0.22.2         # for one-hot encoding\n",
    "!pip3 install lime==0.2.0                  # for explaining model predictions\n",
    "!pip3 install tensorflow"
   ]
  },
  {
   "cell_type": "code",
   "execution_count": 2,
   "metadata": {
    "ExecuteTime": {
     "end_time": "2021-04-02T14:28:55.596964Z",
     "start_time": "2021-04-02T14:28:42.886164Z"
    }
   },
   "outputs": [
    {
     "name": "stdout",
     "output_type": "stream",
     "text": [
      "Is GPU available:  False\n",
      "GPU(s) found: \n",
      "[]\n"
     ]
    }
   ],
   "source": [
    "import numpy as np\n",
    "import pandas as pd\n",
    "import os\n",
    "import matplotlib.pyplot as plt\n",
    "import tensorflow as tf\n",
    "# Check if any GPU is detected\n",
    "print(\"Is GPU available: \", tf.test.is_gpu_available())\n",
    "print(\"GPU(s) found: \")\n",
    "print(tf.config.experimental.list_physical_devices('GPU'))"
   ]
  },
  {
   "cell_type": "code",
   "execution_count": 3,
   "metadata": {
    "ExecuteTime": {
     "end_time": "2021-04-02T14:29:04.484874Z",
     "start_time": "2021-04-02T14:29:03.991471Z"
    }
   },
   "outputs": [],
   "source": [
    "data_path = os.getcwd().replace('script', 'data')\n",
    "data = pd.read_csv(data_path + '/labelled_newscatcher_dataset.csv', sep=';')"
   ]
  },
  {
   "cell_type": "code",
   "execution_count": 4,
   "metadata": {
    "ExecuteTime": {
     "end_time": "2021-04-02T14:29:04.640221Z",
     "start_time": "2021-04-02T14:29:04.566580Z"
    }
   },
   "outputs": [
    {
     "data": {
      "text/html": [
       "<div>\n",
       "<style scoped>\n",
       "    .dataframe tbody tr th:only-of-type {\n",
       "        vertical-align: middle;\n",
       "    }\n",
       "\n",
       "    .dataframe tbody tr th {\n",
       "        vertical-align: top;\n",
       "    }\n",
       "\n",
       "    .dataframe thead th {\n",
       "        text-align: right;\n",
       "    }\n",
       "</style>\n",
       "<table border=\"1\" class=\"dataframe\">\n",
       "  <thead>\n",
       "    <tr style=\"text-align: right;\">\n",
       "      <th></th>\n",
       "      <th>topic</th>\n",
       "      <th>link</th>\n",
       "      <th>domain</th>\n",
       "      <th>published_date</th>\n",
       "      <th>title</th>\n",
       "      <th>lang</th>\n",
       "    </tr>\n",
       "  </thead>\n",
       "  <tbody>\n",
       "    <tr>\n",
       "      <th>0</th>\n",
       "      <td>SCIENCE</td>\n",
       "      <td>https://www.eurekalert.org/pub_releases/2020-0...</td>\n",
       "      <td>eurekalert.org</td>\n",
       "      <td>2020-08-06 13:59:45</td>\n",
       "      <td>A closer look at water-splitting's solar fuel ...</td>\n",
       "      <td>en</td>\n",
       "    </tr>\n",
       "    <tr>\n",
       "      <th>1</th>\n",
       "      <td>SCIENCE</td>\n",
       "      <td>https://www.pulse.ng/news/world/an-irresistibl...</td>\n",
       "      <td>pulse.ng</td>\n",
       "      <td>2020-08-12 15:14:19</td>\n",
       "      <td>An irresistible scent makes locusts swarm, stu...</td>\n",
       "      <td>en</td>\n",
       "    </tr>\n",
       "    <tr>\n",
       "      <th>2</th>\n",
       "      <td>SCIENCE</td>\n",
       "      <td>https://www.express.co.uk/news/science/1322607...</td>\n",
       "      <td>express.co.uk</td>\n",
       "      <td>2020-08-13 21:01:00</td>\n",
       "      <td>Artificial intelligence warning: AI will know ...</td>\n",
       "      <td>en</td>\n",
       "    </tr>\n",
       "    <tr>\n",
       "      <th>3</th>\n",
       "      <td>SCIENCE</td>\n",
       "      <td>https://www.ndtv.com/world-news/glaciers-could...</td>\n",
       "      <td>ndtv.com</td>\n",
       "      <td>2020-08-03 22:18:26</td>\n",
       "      <td>Glaciers Could Have Sculpted Mars Valleys: Study</td>\n",
       "      <td>en</td>\n",
       "    </tr>\n",
       "    <tr>\n",
       "      <th>4</th>\n",
       "      <td>SCIENCE</td>\n",
       "      <td>https://www.thesun.ie/tech/5742187/perseid-met...</td>\n",
       "      <td>thesun.ie</td>\n",
       "      <td>2020-08-12 19:54:36</td>\n",
       "      <td>Perseid meteor shower 2020: What time and how ...</td>\n",
       "      <td>en</td>\n",
       "    </tr>\n",
       "    <tr>\n",
       "      <th>...</th>\n",
       "      <td>...</td>\n",
       "      <td>...</td>\n",
       "      <td>...</td>\n",
       "      <td>...</td>\n",
       "      <td>...</td>\n",
       "      <td>...</td>\n",
       "    </tr>\n",
       "    <tr>\n",
       "      <th>108769</th>\n",
       "      <td>NATION</td>\n",
       "      <td>https://www.vanguardngr.com/2020/08/pdp-govern...</td>\n",
       "      <td>vanguardngr.com</td>\n",
       "      <td>2020-08-08 02:40:00</td>\n",
       "      <td>PDP governors’ forum urges security agencies t...</td>\n",
       "      <td>en</td>\n",
       "    </tr>\n",
       "    <tr>\n",
       "      <th>108770</th>\n",
       "      <td>BUSINESS</td>\n",
       "      <td>https://www.patentlyapple.com/patently-apple/2...</td>\n",
       "      <td>patentlyapple.com</td>\n",
       "      <td>2020-08-08 01:27:12</td>\n",
       "      <td>In Q2-20, Apple Dominated the Premium Smartpho...</td>\n",
       "      <td>en</td>\n",
       "    </tr>\n",
       "    <tr>\n",
       "      <th>108771</th>\n",
       "      <td>HEALTH</td>\n",
       "      <td>https://www.belfastlive.co.uk/news/health/coro...</td>\n",
       "      <td>belfastlive.co.uk</td>\n",
       "      <td>2020-08-12 17:01:00</td>\n",
       "      <td>Coronavirus Northern Ireland: Full breakdown s...</td>\n",
       "      <td>en</td>\n",
       "    </tr>\n",
       "    <tr>\n",
       "      <th>108772</th>\n",
       "      <td>ENTERTAINMENT</td>\n",
       "      <td>https://www.thenews.com.pk/latest/696364-paul-...</td>\n",
       "      <td>thenews.com.pk</td>\n",
       "      <td>2020-08-05 04:59:00</td>\n",
       "      <td>Paul McCartney details post-Beatles distress a...</td>\n",
       "      <td>en</td>\n",
       "    </tr>\n",
       "    <tr>\n",
       "      <th>108773</th>\n",
       "      <td>SPORTS</td>\n",
       "      <td>https://www.balls.ie/football/shane-duffy-brig...</td>\n",
       "      <td>balls.ie</td>\n",
       "      <td>2020-08-09 10:25:26</td>\n",
       "      <td>Report: Talks Underway To Keep Shane Duffy In ...</td>\n",
       "      <td>en</td>\n",
       "    </tr>\n",
       "  </tbody>\n",
       "</table>\n",
       "<p>108774 rows × 6 columns</p>\n",
       "</div>"
      ],
      "text/plain": [
       "                topic                                               link  \\\n",
       "0             SCIENCE  https://www.eurekalert.org/pub_releases/2020-0...   \n",
       "1             SCIENCE  https://www.pulse.ng/news/world/an-irresistibl...   \n",
       "2             SCIENCE  https://www.express.co.uk/news/science/1322607...   \n",
       "3             SCIENCE  https://www.ndtv.com/world-news/glaciers-could...   \n",
       "4             SCIENCE  https://www.thesun.ie/tech/5742187/perseid-met...   \n",
       "...               ...                                                ...   \n",
       "108769         NATION  https://www.vanguardngr.com/2020/08/pdp-govern...   \n",
       "108770       BUSINESS  https://www.patentlyapple.com/patently-apple/2...   \n",
       "108771         HEALTH  https://www.belfastlive.co.uk/news/health/coro...   \n",
       "108772  ENTERTAINMENT  https://www.thenews.com.pk/latest/696364-paul-...   \n",
       "108773         SPORTS  https://www.balls.ie/football/shane-duffy-brig...   \n",
       "\n",
       "                   domain       published_date  \\\n",
       "0          eurekalert.org  2020-08-06 13:59:45   \n",
       "1                pulse.ng  2020-08-12 15:14:19   \n",
       "2           express.co.uk  2020-08-13 21:01:00   \n",
       "3                ndtv.com  2020-08-03 22:18:26   \n",
       "4               thesun.ie  2020-08-12 19:54:36   \n",
       "...                   ...                  ...   \n",
       "108769    vanguardngr.com  2020-08-08 02:40:00   \n",
       "108770  patentlyapple.com  2020-08-08 01:27:12   \n",
       "108771  belfastlive.co.uk  2020-08-12 17:01:00   \n",
       "108772     thenews.com.pk  2020-08-05 04:59:00   \n",
       "108773           balls.ie  2020-08-09 10:25:26   \n",
       "\n",
       "                                                    title lang  \n",
       "0       A closer look at water-splitting's solar fuel ...   en  \n",
       "1       An irresistible scent makes locusts swarm, stu...   en  \n",
       "2       Artificial intelligence warning: AI will know ...   en  \n",
       "3        Glaciers Could Have Sculpted Mars Valleys: Study   en  \n",
       "4       Perseid meteor shower 2020: What time and how ...   en  \n",
       "...                                                   ...  ...  \n",
       "108769  PDP governors’ forum urges security agencies t...   en  \n",
       "108770  In Q2-20, Apple Dominated the Premium Smartpho...   en  \n",
       "108771  Coronavirus Northern Ireland: Full breakdown s...   en  \n",
       "108772  Paul McCartney details post-Beatles distress a...   en  \n",
       "108773  Report: Talks Underway To Keep Shane Duffy In ...   en  \n",
       "\n",
       "[108774 rows x 6 columns]"
      ]
     },
     "execution_count": 4,
     "metadata": {},
     "output_type": "execute_result"
    }
   ],
   "source": [
    "data"
   ]
  },
  {
   "cell_type": "code",
   "execution_count": 5,
   "metadata": {
    "ExecuteTime": {
     "end_time": "2021-04-02T14:29:06.796668Z",
     "start_time": "2021-04-02T14:29:06.767344Z"
    },
    "scrolled": true
   },
   "outputs": [
    {
     "data": {
      "text/plain": [
       "ENTERTAINMENT    15000\n",
       "NATION           15000\n",
       "TECHNOLOGY       15000\n",
       "HEALTH           15000\n",
       "WORLD            15000\n",
       "SPORTS           15000\n",
       "BUSINESS         15000\n",
       "SCIENCE           3774\n",
       "Name: topic, dtype: int64"
      ]
     },
     "execution_count": 5,
     "metadata": {},
     "output_type": "execute_result"
    }
   ],
   "source": [
    "data['topic'].value_counts()"
   ]
  },
  {
   "cell_type": "markdown",
   "metadata": {},
   "source": [
    "The topic Science is with much fewer records, may need to make this up with some other datasets."
   ]
  },
  {
   "cell_type": "code",
   "execution_count": 6,
   "metadata": {
    "ExecuteTime": {
     "end_time": "2021-04-02T14:35:23.333497Z",
     "start_time": "2021-04-02T14:35:23.314926Z"
    }
   },
   "outputs": [],
   "source": [
    "# pickles\n",
    "# data.to_pickle(data_path + \"/original_data.pkl\")\n",
    "# data = pd.read_pickle(data_path + \"/original_data.pkl\")"
   ]
  },
  {
   "cell_type": "markdown",
   "metadata": {},
   "source": [
    "### Transfer Learning with glove"
   ]
  },
  {
   "cell_type": "code",
   "execution_count": 7,
   "metadata": {
    "ExecuteTime": {
     "end_time": "2021-04-02T14:35:24.531385Z",
     "start_time": "2021-04-02T14:35:24.522664Z"
    }
   },
   "outputs": [
    {
     "data": {
      "text/plain": [
       "'/Users/chenxinda/Downloads/COMP__3359__GROUP8-main/data/glove.6B.50d.txt'"
      ]
     },
     "execution_count": 7,
     "metadata": {},
     "output_type": "execute_result"
    }
   ],
   "source": [
    "glove_path = data_path + '/glove.6B.50d.txt'\n",
    "glove_path"
   ]
  },
  {
   "cell_type": "code",
   "execution_count": 8,
   "metadata": {
    "ExecuteTime": {
     "end_time": "2021-04-02T14:35:26.400541Z",
     "start_time": "2021-04-02T14:35:26.380449Z"
    }
   },
   "outputs": [],
   "source": [
    "################################################################################\n",
    "# COMP3359 Artificial Intelligence Applications                                #\n",
    "# Department of Computer Science, HKU                                          #\n",
    "# Module 4 - Example: Classification of Text                                   #\n",
    "# Utility functions for loading GloVe word embeddings                          #\n",
    "#                                                                              #\n",
    "# Reference: uillaume-chevalier/GloVe-as-a-TensorFlow-Embedding-Layer          #\n",
    "# https://github.com/guillaume-chevalier/GloVe-as-a-TensorFlow-Embedding-Layer #\n",
    "################################################################################\n",
    "\n",
    "from string import punctuation\n",
    "from collections import defaultdict\n",
    "import numpy as np\n",
    "\n",
    "def load_embedding_from_disks(glove_filename, with_indexes=True):\n",
    "    \"\"\"\n",
    "    Read a GloVe txt file. If `with_indexes=True`, we return a tuple of two dictionnaries\n",
    "    `(word_to_index_dict, index_to_embedding_array)`, otherwise we return only a direct \n",
    "    `word_to_embedding_dict` dictionnary mapping from a string to a numpy array.\n",
    "    \"\"\"\n",
    "    if with_indexes:\n",
    "        word_to_index_dict = dict()\n",
    "        index_to_embedding_array = []\n",
    "    else:\n",
    "        word_to_embedding_dict = dict()\n",
    "\n",
    "    \n",
    "    with open(glove_filename, 'r') as glove_file:\n",
    "        for (i, line) in enumerate(glove_file):\n",
    "            \n",
    "            split = line.split(' ')\n",
    "            \n",
    "            word = split[0]\n",
    "            \n",
    "            representation = split[1:]\n",
    "            representation = np.array(\n",
    "                [float(val) for val in representation]\n",
    "            )\n",
    "            \n",
    "            if with_indexes:\n",
    "                word_to_index_dict[word] = i\n",
    "                index_to_embedding_array.append(representation)\n",
    "            else:\n",
    "                word_to_embedding_dict[word] = representation\n",
    "\n",
    "    _WORD_NOT_FOUND = [0.0]* len(representation)  # Empty representation for unknown words.\n",
    "    if with_indexes:\n",
    "        _LAST_INDEX = i + 1\n",
    "        word_to_index_dict = defaultdict(lambda: _LAST_INDEX, word_to_index_dict)\n",
    "        index_to_embedding_array = np.array(index_to_embedding_array + [_WORD_NOT_FOUND])\n",
    "        return word_to_index_dict, index_to_embedding_array\n",
    "    else:\n",
    "        word_to_embedding_dict = defaultdict(lambda: _WORD_NOT_FOUND)\n",
    "        return word_to_embedding_dict\n",
    "\n",
    "\n",
    "def sentence_to_word_ids(sentence, word_to_index):\n",
    "    \"\"\"\n",
    "    Note: there might be a better way to split sentences for GloVe.\n",
    "    Please look at the documentation or open an issue to suggest a fix.\n",
    "    \"\"\"\n",
    "    # Separating punctuation from words:\n",
    "    for punctuation_character in punctuation:\n",
    "        sentence = sentence.replace(punctuation_character, \" {} \".format(punctuation_character))\n",
    "    # Removing double spaces and lowercasing:\n",
    "    sentence = sentence.replace(\"  \", \" \").replace(\"  \", \" \").lower().strip()\n",
    "    # Splitting on every space:\n",
    "    split_sentence = sentence.split(\" \")\n",
    "    # Converting to IDs:\n",
    "    ids = [word_to_index[w.strip()] for w in split_sentence]\n",
    "    return ids, split_sentence"
   ]
  },
  {
   "cell_type": "code",
   "execution_count": 9,
   "metadata": {
    "ExecuteTime": {
     "end_time": "2021-04-02T14:35:34.545765Z",
     "start_time": "2021-04-02T14:35:27.305331Z"
    }
   },
   "outputs": [
    {
     "data": {
      "text/plain": [
       "(400002, 50)"
      ]
     },
     "execution_count": 9,
     "metadata": {},
     "output_type": "execute_result"
    }
   ],
   "source": [
    "word_to_index_dict, index_to_embedding_array = load_embedding_from_disks(glove_path, with_indexes=True)\n",
    "index_to_embedding_array.shape"
   ]
  },
  {
   "cell_type": "code",
   "execution_count": 10,
   "metadata": {
    "ExecuteTime": {
     "end_time": "2021-04-02T15:26:33.848885Z",
     "start_time": "2021-04-02T15:26:33.728941Z"
    }
   },
   "outputs": [],
   "source": [
    "# Train dev split\n",
    "from sklearn.model_selection import train_test_split\n",
    "from sklearn import preprocessing\n",
    "X = data['title'].to_numpy()\n",
    "y_beforelabel = data['topic'].to_numpy()\n",
    "le_y = preprocessing.LabelEncoder()\n",
    "oe_y = preprocessing.OneHotEncoder()\n",
    "temp_y = le_y.fit_transform(y_beforelabel).reshape(-1, 1)\n",
    "X_train, X_traindev, temp_y_train, temp_y_traindev = train_test_split(X, temp_y, test_size=0.2, random_state=42)\n",
    "y_train = oe_y.fit_transform(temp_y_train).toarray()\n",
    "y_traindev = oe_y.fit_transform(temp_y_traindev).toarray()"
   ]
  },
  {
   "cell_type": "code",
   "execution_count": 11,
   "metadata": {
    "ExecuteTime": {
     "end_time": "2021-04-02T15:44:05.502638Z",
     "start_time": "2021-04-02T15:44:05.497640Z"
    }
   },
   "outputs": [],
   "source": [
    "def make_complete(x):\n",
    "#     length = max(map(len, x))\n",
    "    length = 70\n",
    "    return np.array([xi+[0]*(length-len(xi)) for xi in x])"
   ]
  },
  {
   "cell_type": "code",
   "execution_count": 12,
   "metadata": {
    "ExecuteTime": {
     "end_time": "2021-04-02T15:44:08.782392Z",
     "start_time": "2021-04-02T15:44:05.860652Z"
    }
   },
   "outputs": [
    {
     "data": {
      "text/plain": [
       "array([[    50,    906,   1073, ...,      0,      0,      0],\n",
       "       [   201, 400001,     11, ...,      0,      0,      0],\n",
       "       [    95,   9280,   1926, ...,      0,      0,      0],\n",
       "       ...,\n",
       "       [400001,   3962,  15231, ...,      0,      0,      0],\n",
       "       [  5943,    970,     42, ...,      0,      0,      0],\n",
       "       [    95, 108811,   1861, ...,      0,      0,      0]])"
      ]
     },
     "execution_count": 12,
     "metadata": {},
     "output_type": "execute_result"
    }
   ],
   "source": [
    "X_train_token = make_complete([ sentence_to_word_ids(x, word_to_index_dict)[0] for x in X_train ])\n",
    "X_traindev_token = make_complete([ sentence_to_word_ids(x, word_to_index_dict)[0] for x in X_traindev ])\n",
    "\n",
    "X_train_token"
   ]
  },
  {
   "cell_type": "code",
   "execution_count": 13,
   "metadata": {
    "ExecuteTime": {
     "end_time": "2021-04-02T15:57:46.701816Z",
     "start_time": "2021-04-02T15:57:46.692161Z"
    }
   },
   "outputs": [],
   "source": [
    "BATCH_SIZE = 128\n",
    "# Training set data pipeline\n",
    "train_ds_glove = tf.data.Dataset.from_tensor_slices((X_train_token, y_train))   \n",
    "train_ds_glove = train_ds_glove.shuffle(buffer_size=len(X_train_token))                \n",
    "train_ds_glove = train_ds_glove.batch(batch_size=BATCH_SIZE)                     \n",
    "# Test set data pipeline\n",
    "traindev_ds_glove = tf.data.Dataset.from_tensor_slices((X_traindev_token, y_traindev))\n",
    "traindev_ds_glove = traindev_ds_glove.batch(batch_size=BATCH_SIZE)"
   ]
  },
  {
   "cell_type": "code",
   "execution_count": 18,
   "metadata": {},
   "outputs": [
    {
     "name": "stdout",
     "output_type": "stream",
     "text": [
      "Vocab Size:  400002\n",
      "Embedding Dim:  50\n",
      "Epoch 1/10\n",
      "680/680 [==============================] - 281s 408ms/step - loss: 0.4896 - accuracy: 0.1470 - val_loss: 0.3651 - val_accuracy: 0.3005\n",
      "Epoch 2/10\n",
      "680/680 [==============================] - 306s 449ms/step - loss: 0.3459 - accuracy: 0.3197 - val_loss: 0.2857 - val_accuracy: 0.5167\n",
      "Epoch 3/10\n",
      "680/680 [==============================] - 275s 404ms/step - loss: 0.2595 - accuracy: 0.5992 - val_loss: 0.2186 - val_accuracy: 0.6516\n",
      "Epoch 4/10\n",
      "680/680 [==============================] - 303s 445ms/step - loss: 0.1963 - accuracy: 0.6977 - val_loss: 0.1899 - val_accuracy: 0.6867\n",
      "Epoch 5/10\n",
      "680/680 [==============================] - 295s 434ms/step - loss: 0.1646 - accuracy: 0.7513 - val_loss: 0.1749 - val_accuracy: 0.7203\n",
      "Epoch 6/10\n",
      "680/680 [==============================] - 300s 441ms/step - loss: 0.1433 - accuracy: 0.7889 - val_loss: 0.1644 - val_accuracy: 0.7396\n",
      "Epoch 7/10\n",
      "680/680 [==============================] - 276s 405ms/step - loss: 0.1251 - accuracy: 0.8225 - val_loss: 0.1593 - val_accuracy: 0.7536\n",
      "Epoch 8/10\n",
      "680/680 [==============================] - 297s 437ms/step - loss: 0.1116 - accuracy: 0.8456 - val_loss: 0.1583 - val_accuracy: 0.7523\n",
      "Epoch 9/10\n",
      "680/680 [==============================] - 293s 431ms/step - loss: 0.0998 - accuracy: 0.8645 - val_loss: 0.1506 - val_accuracy: 0.7742\n",
      "Epoch 10/10\n",
      "680/680 [==============================] - 273s 401ms/step - loss: 0.0903 - accuracy: 0.8797 - val_loss: 0.1477 - val_accuracy: 0.7784\n"
     ]
    }
   ],
   "source": [
    "\"\"\" Text Classification with RNN Model \"\"\"\n",
    "# Construct model\n",
    "\n",
    "vocab_size, embedding_dim = index_to_embedding_array.shape\n",
    "\n",
    "\n",
    "\n",
    "model_rnn = tf.keras.Sequential([\n",
    "    tf.keras.layers.Embedding(vocab_size, 64),\n",
    "    tf.keras.layers.Bidirectional(tf.keras.layers.LSTM(64)),\n",
    "    tf.keras.layers.Dense(64, activation='relu'),\n",
    "    tf.keras.layers.Dense(8, activation='softmax')\n",
    "])\n",
    "\n",
    "# Compile model\n",
    "model_rnn.compile(loss='binary_crossentropy',\n",
    "                  optimizer=tf.keras.optimizers.Adam(1e-4),\n",
    "                  metrics=['accuracy'])\n",
    "\n",
    "# Train model\n",
    "history = model_rnn.fit(train_ds_glove, epochs=30,\n",
    "                        validation_data=traindev_ds_glove, \n",
    "                        validation_steps=30)"
   ]
  },
  {
   "cell_type": "code",
   "execution_count": 19,
   "metadata": {},
   "outputs": [
    {
     "data": {
      "image/png": "[encoded data removed]",
      "text/plain": [
       "<Figure size 432x288 with 1 Axes>"
      ]
     },
     "metadata": {
      "needs_background": "light"
     },
     "output_type": "display_data"
    },
    {
     "data": {
      "image/png": "[encoded data removed]",
      "text/plain": [
       "<Figure size 432x288 with 1 Axes>"
      ]
     },
     "metadata": {
      "needs_background": "light"
     },
     "output_type": "display_data"
    }
   ],
   "source": [
    "##### Loss #####\n",
    "# Get training results\n",
    "history_dict = history.history\n",
    "train_loss = history_dict['loss']\n",
    "test_loss = history_dict['val_loss']\n",
    "\n",
    "# Plot training results\n",
    "plt.plot(train_loss, label='Train Loss')\n",
    "plt.plot(test_loss, label='Test Loss')\n",
    "\n",
    "# Show plot\n",
    "plt.title('Model Training Results (Loss)')\n",
    "plt.xlabel('Epochs')\n",
    "plt.ylabel('Loss')\n",
    "plt.legend(loc=\"lower right\")\n",
    "plt.grid()\n",
    "plt.show()\n",
    "\n",
    "##### Accuracy #####\n",
    "# Get training results\n",
    "history_dict = history.history\n",
    "train_acc = history_dict['accuracy']\n",
    "test_acc = history_dict['val_accuracy']\n",
    "\n",
    "# Plot training results\n",
    "plt.plot(train_acc, label='Train Acc.')\n",
    "plt.plot(test_acc, label='Test Acc.')\n",
    "\n",
    "# Show plot\n",
    "plt.title('Model Training Results (Acc.)')\n",
    "plt.xlabel('Epochs')\n",
    "plt.ylabel('Acc')\n",
    "plt.legend(loc=\"lower right\")\n",
    "plt.grid()\n",
    "plt.show()\n"
   ]
  },
  {
   "cell_type": "code",
   "execution_count": 21,
   "metadata": {},
   "outputs": [
    {
     "data": {
      "image/png": "[encoded data removed]",
      "text/plain": [
       "<Figure size 432x288 with 2 Axes>"
      ]
     },
     "metadata": {
      "needs_background": "light"
     },
     "output_type": "display_data"
    }
   ],
   "source": [
    "\"\"\" Confusion Matrix \"\"\"\n",
    "############################################\n",
    "# Please DO NOT modify codes in this cell. #\n",
    "############################################\n",
    "\n",
    "# In this code block, we compute the confusion matrix using sklearn and \n",
    "# display the results with seaborn\n",
    "from sklearn.metrics import confusion_matrix\n",
    "import seaborn as sn\n",
    "\n",
    "CATEGORIES_TO_USE = ['SPORTS',\n",
    "'TECHNOLOGY',\n",
    "'HEALTH',\n",
    "'NATION',\n",
    "'WORLD',\n",
    "'BUSINESS',\n",
    "'ENTERTAINMENT',\n",
    "'SCIENCE' ]\n",
    "\n",
    "# Compute confusion matrix based on predictions\n",
    "cm = confusion_matrix(\n",
    "    np.argmax(y_traindev, axis=1),  # ground-truths\n",
    "    np.argmax(model_rnn.predict(X_traindev_token), axis=1), # predictions\n",
    ")\n",
    "# Pack confusion matrix as a pd DataFrame for visualization using seaborn\n",
    "df_cm = pd.DataFrame(\n",
    "    cm, \n",
    "    index=CATEGORIES_TO_USE, columns=CATEGORIES_TO_USE\n",
    ")\n",
    "\n",
    "# Prepare annotations \"# preds (percentage)\" for visualization\n",
    "annotations = [ \n",
    "    [ \" ({:.2f}%)\".format( value/len(y_traindev)*100) for value in row ] \n",
    "    for row in cm \n",
    "]\n",
    "\n",
    "# Visualize confusion matrix using seaborn heatmap\n",
    "sn.heatmap(df_cm, \n",
    "           annot=annotations, fmt='',\n",
    "           cmap=\"Blues_r\", cbar_kws={'label': '# Predictions'},\n",
    "           linecolor='w', linewidths=1)\n",
    "\n",
    "# Show plot\n",
    "plt.title(\"Confusion Matrix\")\n",
    "plt.xlabel(\"Prediction\")\n",
    "plt.ylabel(\"Ground-truth\")\n",
    "\n",
    "plt.show()"
   ]
  },
  {
   "cell_type": "code",
   "execution_count": 23,
   "metadata": {},
   "outputs": [
    {
     "name": "stdout",
     "output_type": "stream",
     "text": [
      "               precision    recall  f1-score   support\n",
      "\n",
      "       SPORTS       0.78      0.77      0.77      2922\n",
      "   TECHNOLOGY       0.83      0.84      0.84      2952\n",
      "       HEALTH       0.77      0.81      0.79      3006\n",
      "       NATION       0.66      0.63      0.65      2970\n",
      "        WORLD       0.79      0.73      0.76       764\n",
      "     BUSINESS       0.91      0.90      0.90      3009\n",
      "ENTERTAINMENT       0.86      0.86      0.86      3111\n",
      "      SCIENCE       0.65      0.66      0.66      3021\n",
      "\n",
      "     accuracy                           0.78     21755\n",
      "    macro avg       0.78      0.78      0.78     21755\n",
      " weighted avg       0.78      0.78      0.78     21755\n",
      "\n"
     ]
    }
   ],
   "source": [
    "from sklearn.metrics import  classification_report\n",
    "\n",
    "print(classification_report(\n",
    "    np.argmax(y_traindev, axis=1),  # ground-truths\n",
    "    np.argmax(model_rnn.predict(X_traindev_token), axis=1),target_names=CATEGORIES_TO_USE)\n",
    ")"
   ]
  },
  {
   "cell_type": "code",
   "execution_count": null,
   "metadata": {},
   "outputs": [],
   "source": []
  }
 ],
 "metadata": {
  "kernelspec": {
   "display_name": "Python 3",
   "language": "python",
   "name": "python3"
  },
  "language_info": {
   "codemirror_mode": {
    "name": "ipython",
    "version": 3
   },
   "file_extension": ".py",
   "mimetype": "text/x-python",
   "name": "python",
   "nbconvert_exporter": "python",
   "pygments_lexer": "ipython3",
   "version": "3.7.7"
  },
  "toc": {
   "base_numbering": 1,
   "nav_menu": {},
   "number_sections": true,
   "sideBar": true,
   "skip_h1_title": false,
   "title_cell": "Table of Contents",
   "title_sidebar": "Contents",
   "toc_cell": false,
   "toc_position": {
    "height": "calc(100% - 180px)",
    "left": "10px",
    "top": "150px",
    "width": "234px"
   },
   "toc_section_display": true,
   "toc_window_display": true
  }
 },
 "nbformat": 4,
 "nbformat_minor": 4
}
